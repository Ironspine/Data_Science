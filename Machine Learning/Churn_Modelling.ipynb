{
 "cells": [
  {
   "cell_type": "code",
   "execution_count": 1,
   "metadata": {},
   "outputs": [],
   "source": [
    "import pandas as pd\n",
    "import numpy as np\n",
    "\n",
    "import matplotlib.pyplot as plt"
   ]
  },
  {
   "cell_type": "code",
   "execution_count": 9,
   "metadata": {},
   "outputs": [
    {
     "data": {
      "text/html": [
       "<div>\n",
       "<style scoped>\n",
       "    .dataframe tbody tr th:only-of-type {\n",
       "        vertical-align: middle;\n",
       "    }\n",
       "\n",
       "    .dataframe tbody tr th {\n",
       "        vertical-align: top;\n",
       "    }\n",
       "\n",
       "    .dataframe thead th {\n",
       "        text-align: right;\n",
       "    }\n",
       "</style>\n",
       "<table border=\"1\" class=\"dataframe\">\n",
       "  <thead>\n",
       "    <tr style=\"text-align: right;\">\n",
       "      <th></th>\n",
       "      <th>RowNumber</th>\n",
       "      <th>CustomerId</th>\n",
       "      <th>Surname</th>\n",
       "      <th>CreditScore</th>\n",
       "      <th>Geography</th>\n",
       "      <th>Gender</th>\n",
       "      <th>Age</th>\n",
       "      <th>Tenure</th>\n",
       "      <th>Balance</th>\n",
       "      <th>NumOfProducts</th>\n",
       "      <th>HasCrCard</th>\n",
       "      <th>IsActiveMember</th>\n",
       "      <th>EstimatedSalary</th>\n",
       "      <th>Exited</th>\n",
       "    </tr>\n",
       "  </thead>\n",
       "  <tbody>\n",
       "    <tr>\n",
       "      <td>0</td>\n",
       "      <td>1</td>\n",
       "      <td>15634602</td>\n",
       "      <td>Hargrave</td>\n",
       "      <td>619</td>\n",
       "      <td>France</td>\n",
       "      <td>Female</td>\n",
       "      <td>42</td>\n",
       "      <td>2</td>\n",
       "      <td>0.00</td>\n",
       "      <td>1</td>\n",
       "      <td>1</td>\n",
       "      <td>1</td>\n",
       "      <td>101348.88</td>\n",
       "      <td>1</td>\n",
       "    </tr>\n",
       "    <tr>\n",
       "      <td>1</td>\n",
       "      <td>2</td>\n",
       "      <td>15647311</td>\n",
       "      <td>Hill</td>\n",
       "      <td>608</td>\n",
       "      <td>Spain</td>\n",
       "      <td>Female</td>\n",
       "      <td>41</td>\n",
       "      <td>1</td>\n",
       "      <td>83807.86</td>\n",
       "      <td>1</td>\n",
       "      <td>0</td>\n",
       "      <td>1</td>\n",
       "      <td>112542.58</td>\n",
       "      <td>0</td>\n",
       "    </tr>\n",
       "    <tr>\n",
       "      <td>2</td>\n",
       "      <td>3</td>\n",
       "      <td>15619304</td>\n",
       "      <td>Onio</td>\n",
       "      <td>502</td>\n",
       "      <td>France</td>\n",
       "      <td>Female</td>\n",
       "      <td>42</td>\n",
       "      <td>8</td>\n",
       "      <td>159660.80</td>\n",
       "      <td>3</td>\n",
       "      <td>1</td>\n",
       "      <td>0</td>\n",
       "      <td>113931.57</td>\n",
       "      <td>1</td>\n",
       "    </tr>\n",
       "    <tr>\n",
       "      <td>3</td>\n",
       "      <td>4</td>\n",
       "      <td>15701354</td>\n",
       "      <td>Boni</td>\n",
       "      <td>699</td>\n",
       "      <td>France</td>\n",
       "      <td>Female</td>\n",
       "      <td>39</td>\n",
       "      <td>1</td>\n",
       "      <td>0.00</td>\n",
       "      <td>2</td>\n",
       "      <td>0</td>\n",
       "      <td>0</td>\n",
       "      <td>93826.63</td>\n",
       "      <td>0</td>\n",
       "    </tr>\n",
       "    <tr>\n",
       "      <td>4</td>\n",
       "      <td>5</td>\n",
       "      <td>15737888</td>\n",
       "      <td>Mitchell</td>\n",
       "      <td>850</td>\n",
       "      <td>Spain</td>\n",
       "      <td>Female</td>\n",
       "      <td>43</td>\n",
       "      <td>2</td>\n",
       "      <td>125510.82</td>\n",
       "      <td>1</td>\n",
       "      <td>1</td>\n",
       "      <td>1</td>\n",
       "      <td>79084.10</td>\n",
       "      <td>0</td>\n",
       "    </tr>\n",
       "    <tr>\n",
       "      <td>...</td>\n",
       "      <td>...</td>\n",
       "      <td>...</td>\n",
       "      <td>...</td>\n",
       "      <td>...</td>\n",
       "      <td>...</td>\n",
       "      <td>...</td>\n",
       "      <td>...</td>\n",
       "      <td>...</td>\n",
       "      <td>...</td>\n",
       "      <td>...</td>\n",
       "      <td>...</td>\n",
       "      <td>...</td>\n",
       "      <td>...</td>\n",
       "      <td>...</td>\n",
       "    </tr>\n",
       "    <tr>\n",
       "      <td>9995</td>\n",
       "      <td>9996</td>\n",
       "      <td>15606229</td>\n",
       "      <td>Obijiaku</td>\n",
       "      <td>771</td>\n",
       "      <td>France</td>\n",
       "      <td>Male</td>\n",
       "      <td>39</td>\n",
       "      <td>5</td>\n",
       "      <td>0.00</td>\n",
       "      <td>2</td>\n",
       "      <td>1</td>\n",
       "      <td>0</td>\n",
       "      <td>96270.64</td>\n",
       "      <td>0</td>\n",
       "    </tr>\n",
       "    <tr>\n",
       "      <td>9996</td>\n",
       "      <td>9997</td>\n",
       "      <td>15569892</td>\n",
       "      <td>Johnstone</td>\n",
       "      <td>516</td>\n",
       "      <td>France</td>\n",
       "      <td>Male</td>\n",
       "      <td>35</td>\n",
       "      <td>10</td>\n",
       "      <td>57369.61</td>\n",
       "      <td>1</td>\n",
       "      <td>1</td>\n",
       "      <td>1</td>\n",
       "      <td>101699.77</td>\n",
       "      <td>0</td>\n",
       "    </tr>\n",
       "    <tr>\n",
       "      <td>9997</td>\n",
       "      <td>9998</td>\n",
       "      <td>15584532</td>\n",
       "      <td>Liu</td>\n",
       "      <td>709</td>\n",
       "      <td>France</td>\n",
       "      <td>Female</td>\n",
       "      <td>36</td>\n",
       "      <td>7</td>\n",
       "      <td>0.00</td>\n",
       "      <td>1</td>\n",
       "      <td>0</td>\n",
       "      <td>1</td>\n",
       "      <td>42085.58</td>\n",
       "      <td>1</td>\n",
       "    </tr>\n",
       "    <tr>\n",
       "      <td>9998</td>\n",
       "      <td>9999</td>\n",
       "      <td>15682355</td>\n",
       "      <td>Sabbatini</td>\n",
       "      <td>772</td>\n",
       "      <td>Germany</td>\n",
       "      <td>Male</td>\n",
       "      <td>42</td>\n",
       "      <td>3</td>\n",
       "      <td>75075.31</td>\n",
       "      <td>2</td>\n",
       "      <td>1</td>\n",
       "      <td>0</td>\n",
       "      <td>92888.52</td>\n",
       "      <td>1</td>\n",
       "    </tr>\n",
       "    <tr>\n",
       "      <td>9999</td>\n",
       "      <td>10000</td>\n",
       "      <td>15628319</td>\n",
       "      <td>Walker</td>\n",
       "      <td>792</td>\n",
       "      <td>France</td>\n",
       "      <td>Female</td>\n",
       "      <td>28</td>\n",
       "      <td>4</td>\n",
       "      <td>130142.79</td>\n",
       "      <td>1</td>\n",
       "      <td>1</td>\n",
       "      <td>0</td>\n",
       "      <td>38190.78</td>\n",
       "      <td>0</td>\n",
       "    </tr>\n",
       "  </tbody>\n",
       "</table>\n",
       "<p>10000 rows × 14 columns</p>\n",
       "</div>"
      ],
      "text/plain": [
       "      RowNumber  CustomerId    Surname  CreditScore Geography  Gender  Age  \\\n",
       "0             1    15634602   Hargrave          619    France  Female   42   \n",
       "1             2    15647311       Hill          608     Spain  Female   41   \n",
       "2             3    15619304       Onio          502    France  Female   42   \n",
       "3             4    15701354       Boni          699    France  Female   39   \n",
       "4             5    15737888   Mitchell          850     Spain  Female   43   \n",
       "...         ...         ...        ...          ...       ...     ...  ...   \n",
       "9995       9996    15606229   Obijiaku          771    France    Male   39   \n",
       "9996       9997    15569892  Johnstone          516    France    Male   35   \n",
       "9997       9998    15584532        Liu          709    France  Female   36   \n",
       "9998       9999    15682355  Sabbatini          772   Germany    Male   42   \n",
       "9999      10000    15628319     Walker          792    France  Female   28   \n",
       "\n",
       "      Tenure    Balance  NumOfProducts  HasCrCard  IsActiveMember  \\\n",
       "0          2       0.00              1          1               1   \n",
       "1          1   83807.86              1          0               1   \n",
       "2          8  159660.80              3          1               0   \n",
       "3          1       0.00              2          0               0   \n",
       "4          2  125510.82              1          1               1   \n",
       "...      ...        ...            ...        ...             ...   \n",
       "9995       5       0.00              2          1               0   \n",
       "9996      10   57369.61              1          1               1   \n",
       "9997       7       0.00              1          0               1   \n",
       "9998       3   75075.31              2          1               0   \n",
       "9999       4  130142.79              1          1               0   \n",
       "\n",
       "      EstimatedSalary  Exited  \n",
       "0           101348.88       1  \n",
       "1           112542.58       0  \n",
       "2           113931.57       1  \n",
       "3            93826.63       0  \n",
       "4            79084.10       0  \n",
       "...               ...     ...  \n",
       "9995         96270.64       0  \n",
       "9996        101699.77       0  \n",
       "9997         42085.58       1  \n",
       "9998         92888.52       1  \n",
       "9999         38190.78       0  \n",
       "\n",
       "[10000 rows x 14 columns]"
      ]
     },
     "execution_count": 9,
     "metadata": {},
     "output_type": "execute_result"
    }
   ],
   "source": [
    "df = pd.read_csv('Churn_Modelling.csv')\n",
    "df"
   ]
  },
  {
   "cell_type": "code",
   "execution_count": 56,
   "metadata": {},
   "outputs": [
    {
     "data": {
      "text/plain": [
       "Male      5457\n",
       "Female    4543\n",
       "Name: Gender, dtype: int64"
      ]
     },
     "execution_count": 56,
     "metadata": {},
     "output_type": "execute_result"
    }
   ],
   "source": [
    "df.Gender.value_counts()"
   ]
  },
  {
   "cell_type": "code",
   "execution_count": 4,
   "metadata": {},
   "outputs": [
    {
     "data": {
      "text/plain": [
       "RowNumber          0\n",
       "CustomerId         0\n",
       "Surname            0\n",
       "CreditScore        0\n",
       "Geography          0\n",
       "Gender             0\n",
       "Age                0\n",
       "Tenure             0\n",
       "Balance            0\n",
       "NumOfProducts      0\n",
       "HasCrCard          0\n",
       "IsActiveMember     0\n",
       "EstimatedSalary    0\n",
       "Exited             0\n",
       "dtype: int64"
      ]
     },
     "execution_count": 4,
     "metadata": {},
     "output_type": "execute_result"
    }
   ],
   "source": [
    "df.isnull().sum()"
   ]
  },
  {
   "cell_type": "code",
   "execution_count": 54,
   "metadata": {},
   "outputs": [
    {
     "data": {
      "text/plain": [
       "<matplotlib.legend.Legend at 0x17e35c08>"
      ]
     },
     "execution_count": 54,
     "metadata": {},
     "output_type": "execute_result"
    },
    {
     "data": {
      "image/png": "[encoded data removed]",
      "text/plain": [
       "<Figure size 1008x432 with 3 Axes>"
      ]
     },
     "metadata": {
      "needs_background": "light"
     },
     "output_type": "display_data"
    }
   ],
   "source": [
    "numerical_features = ['Age', 'Balance', 'Tenure']\n",
    "fig, ax = plt.subplots(1, 3, figsize=(14, 6))\n",
    "df[df.Exited == 0][numerical_features].hist(bins=30, color=\"blue\", alpha=0.5, ax=ax)\n",
    "df[df.Exited == 1][numerical_features].hist(bins=30, color=\"red\", alpha=0.5, ax=ax)\n",
    "fig.legend(labels = ['Exited', 'Not Exited'], loc = 'center right')"
   ]
  },
  {
   "cell_type": "code",
   "execution_count": 55,
   "metadata": {},
   "outputs": [
    {
     "data": {
      "text/plain": [
       "<matplotlib.legend.Legend at 0x1814ee88>"
      ]
     },
     "execution_count": 55,
     "metadata": {},
     "output_type": "execute_result"
    },
    {
     "data": {
      "image/png": "[encoded data removed]",
      "text/plain": [
       "<Figure size 1008x432 with 3 Axes>"
      ]
     },
     "metadata": {
      "needs_background": "light"
     },
     "output_type": "display_data"
    }
   ],
   "source": [
    "fig, ax = plt.subplots(1, 3, figsize=(14, 6))\n",
    "df[df.Gender == 'Male'][numerical_features].hist(bins=30, color=\"blue\", alpha=0.5, ax=ax)\n",
    "df[df.Gender == 'Female'][numerical_features].hist(bins=30, color=\"red\", alpha=0.5, ax=ax)\n",
    "fig.legend(labels = ['Male', 'Female'], loc = 'center right')"
   ]
  },
  {
   "cell_type": "code",
   "execution_count": 52,
   "metadata": {},
   "outputs": [
    {
     "data": {
      "text/plain": [
       "<BarContainer object of 3 artists>"
      ]
     },
     "execution_count": 52,
     "metadata": {},
     "output_type": "execute_result"
    },
    {
     "data": {
      "image/png": "[encoded data removed]",
      "text/plain": [
       "<Figure size 648x504 with 1 Axes>"
      ]
     },
     "metadata": {
      "needs_background": "light"
     },
     "output_type": "display_data"
    }
   ],
   "source": [
    "plt.figure(figsize = (9, 7))\n",
    "plt.bar(x = df['Geography'].unique(), height = [5014, 2509, 2477], color = 'purple')"
   ]
  },
  {
   "cell_type": "code",
   "execution_count": 10,
   "metadata": {},
   "outputs": [
    {
     "data": {
      "text/html": [
       "<div>\n",
       "<style scoped>\n",
       "    .dataframe tbody tr th:only-of-type {\n",
       "        vertical-align: middle;\n",
       "    }\n",
       "\n",
       "    .dataframe tbody tr th {\n",
       "        vertical-align: top;\n",
       "    }\n",
       "\n",
       "    .dataframe thead th {\n",
       "        text-align: right;\n",
       "    }\n",
       "</style>\n",
       "<table border=\"1\" class=\"dataframe\">\n",
       "  <thead>\n",
       "    <tr style=\"text-align: right;\">\n",
       "      <th></th>\n",
       "      <th>CreditScore</th>\n",
       "      <th>Age</th>\n",
       "      <th>Tenure</th>\n",
       "      <th>Balance</th>\n",
       "      <th>NumOfProducts</th>\n",
       "      <th>HasCrCard</th>\n",
       "      <th>IsActiveMember</th>\n",
       "      <th>EstimatedSalary</th>\n",
       "      <th>Geography_Germany</th>\n",
       "      <th>Geography_Spain</th>\n",
       "      <th>Gender_Male</th>\n",
       "      <th>Exited</th>\n",
       "    </tr>\n",
       "  </thead>\n",
       "  <tbody>\n",
       "    <tr>\n",
       "      <td>0</td>\n",
       "      <td>619</td>\n",
       "      <td>42</td>\n",
       "      <td>2</td>\n",
       "      <td>0.00</td>\n",
       "      <td>1</td>\n",
       "      <td>1</td>\n",
       "      <td>1</td>\n",
       "      <td>101348.88</td>\n",
       "      <td>0</td>\n",
       "      <td>0</td>\n",
       "      <td>0</td>\n",
       "      <td>1</td>\n",
       "    </tr>\n",
       "    <tr>\n",
       "      <td>1</td>\n",
       "      <td>608</td>\n",
       "      <td>41</td>\n",
       "      <td>1</td>\n",
       "      <td>83807.86</td>\n",
       "      <td>1</td>\n",
       "      <td>0</td>\n",
       "      <td>1</td>\n",
       "      <td>112542.58</td>\n",
       "      <td>0</td>\n",
       "      <td>1</td>\n",
       "      <td>0</td>\n",
       "      <td>0</td>\n",
       "    </tr>\n",
       "    <tr>\n",
       "      <td>2</td>\n",
       "      <td>502</td>\n",
       "      <td>42</td>\n",
       "      <td>8</td>\n",
       "      <td>159660.80</td>\n",
       "      <td>3</td>\n",
       "      <td>1</td>\n",
       "      <td>0</td>\n",
       "      <td>113931.57</td>\n",
       "      <td>0</td>\n",
       "      <td>0</td>\n",
       "      <td>0</td>\n",
       "      <td>1</td>\n",
       "    </tr>\n",
       "    <tr>\n",
       "      <td>3</td>\n",
       "      <td>699</td>\n",
       "      <td>39</td>\n",
       "      <td>1</td>\n",
       "      <td>0.00</td>\n",
       "      <td>2</td>\n",
       "      <td>0</td>\n",
       "      <td>0</td>\n",
       "      <td>93826.63</td>\n",
       "      <td>0</td>\n",
       "      <td>0</td>\n",
       "      <td>0</td>\n",
       "      <td>0</td>\n",
       "    </tr>\n",
       "    <tr>\n",
       "      <td>4</td>\n",
       "      <td>850</td>\n",
       "      <td>43</td>\n",
       "      <td>2</td>\n",
       "      <td>125510.82</td>\n",
       "      <td>1</td>\n",
       "      <td>1</td>\n",
       "      <td>1</td>\n",
       "      <td>79084.10</td>\n",
       "      <td>0</td>\n",
       "      <td>1</td>\n",
       "      <td>0</td>\n",
       "      <td>0</td>\n",
       "    </tr>\n",
       "    <tr>\n",
       "      <td>...</td>\n",
       "      <td>...</td>\n",
       "      <td>...</td>\n",
       "      <td>...</td>\n",
       "      <td>...</td>\n",
       "      <td>...</td>\n",
       "      <td>...</td>\n",
       "      <td>...</td>\n",
       "      <td>...</td>\n",
       "      <td>...</td>\n",
       "      <td>...</td>\n",
       "      <td>...</td>\n",
       "      <td>...</td>\n",
       "    </tr>\n",
       "    <tr>\n",
       "      <td>9995</td>\n",
       "      <td>771</td>\n",
       "      <td>39</td>\n",
       "      <td>5</td>\n",
       "      <td>0.00</td>\n",
       "      <td>2</td>\n",
       "      <td>1</td>\n",
       "      <td>0</td>\n",
       "      <td>96270.64</td>\n",
       "      <td>0</td>\n",
       "      <td>0</td>\n",
       "      <td>1</td>\n",
       "      <td>0</td>\n",
       "    </tr>\n",
       "    <tr>\n",
       "      <td>9996</td>\n",
       "      <td>516</td>\n",
       "      <td>35</td>\n",
       "      <td>10</td>\n",
       "      <td>57369.61</td>\n",
       "      <td>1</td>\n",
       "      <td>1</td>\n",
       "      <td>1</td>\n",
       "      <td>101699.77</td>\n",
       "      <td>0</td>\n",
       "      <td>0</td>\n",
       "      <td>1</td>\n",
       "      <td>0</td>\n",
       "    </tr>\n",
       "    <tr>\n",
       "      <td>9997</td>\n",
       "      <td>709</td>\n",
       "      <td>36</td>\n",
       "      <td>7</td>\n",
       "      <td>0.00</td>\n",
       "      <td>1</td>\n",
       "      <td>0</td>\n",
       "      <td>1</td>\n",
       "      <td>42085.58</td>\n",
       "      <td>0</td>\n",
       "      <td>0</td>\n",
       "      <td>0</td>\n",
       "      <td>1</td>\n",
       "    </tr>\n",
       "    <tr>\n",
       "      <td>9998</td>\n",
       "      <td>772</td>\n",
       "      <td>42</td>\n",
       "      <td>3</td>\n",
       "      <td>75075.31</td>\n",
       "      <td>2</td>\n",
       "      <td>1</td>\n",
       "      <td>0</td>\n",
       "      <td>92888.52</td>\n",
       "      <td>1</td>\n",
       "      <td>0</td>\n",
       "      <td>1</td>\n",
       "      <td>1</td>\n",
       "    </tr>\n",
       "    <tr>\n",
       "      <td>9999</td>\n",
       "      <td>792</td>\n",
       "      <td>28</td>\n",
       "      <td>4</td>\n",
       "      <td>130142.79</td>\n",
       "      <td>1</td>\n",
       "      <td>1</td>\n",
       "      <td>0</td>\n",
       "      <td>38190.78</td>\n",
       "      <td>0</td>\n",
       "      <td>0</td>\n",
       "      <td>0</td>\n",
       "      <td>0</td>\n",
       "    </tr>\n",
       "  </tbody>\n",
       "</table>\n",
       "<p>10000 rows × 12 columns</p>\n",
       "</div>"
      ],
      "text/plain": [
       "      CreditScore  Age  Tenure    Balance  NumOfProducts  HasCrCard  \\\n",
       "0             619   42       2       0.00              1          1   \n",
       "1             608   41       1   83807.86              1          0   \n",
       "2             502   42       8  159660.80              3          1   \n",
       "3             699   39       1       0.00              2          0   \n",
       "4             850   43       2  125510.82              1          1   \n",
       "...           ...  ...     ...        ...            ...        ...   \n",
       "9995          771   39       5       0.00              2          1   \n",
       "9996          516   35      10   57369.61              1          1   \n",
       "9997          709   36       7       0.00              1          0   \n",
       "9998          772   42       3   75075.31              2          1   \n",
       "9999          792   28       4  130142.79              1          1   \n",
       "\n",
       "      IsActiveMember  EstimatedSalary  Geography_Germany  Geography_Spain  \\\n",
       "0                  1        101348.88                  0                0   \n",
       "1                  1        112542.58                  0                1   \n",
       "2                  0        113931.57                  0                0   \n",
       "3                  0         93826.63                  0                0   \n",
       "4                  1         79084.10                  0                1   \n",
       "...              ...              ...                ...              ...   \n",
       "9995               0         96270.64                  0                0   \n",
       "9996               1        101699.77                  0                0   \n",
       "9997               1         42085.58                  0                0   \n",
       "9998               0         92888.52                  1                0   \n",
       "9999               0         38190.78                  0                0   \n",
       "\n",
       "      Gender_Male  Exited  \n",
       "0               0       1  \n",
       "1               0       0  \n",
       "2               0       1  \n",
       "3               0       0  \n",
       "4               0       0  \n",
       "...           ...     ...  \n",
       "9995            1       0  \n",
       "9996            1       0  \n",
       "9997            0       1  \n",
       "9998            1       1  \n",
       "9999            0       0  \n",
       "\n",
       "[10000 rows x 12 columns]"
      ]
     },
     "execution_count": 10,
     "metadata": {},
     "output_type": "execute_result"
    }
   ],
   "source": [
    "# Preprocessing\n",
    "\n",
    "df = df.drop(df[['Surname', 'CustomerId', 'RowNumber']], axis = 1)\n",
    "df = pd.get_dummies(df, drop_first = True)\n",
    "exited = df.pop('Exited')\n",
    "df.insert(11, 'Exited', exited)\n",
    "df"
   ]
  },
  {
   "cell_type": "code",
   "execution_count": 11,
   "metadata": {},
   "outputs": [
    {
     "name": "stdout",
     "output_type": "stream",
     "text": [
      "[[0.32622142 0.29351742 1.04175968 ... 0.57873591 0.57380915 1.09598752]\n",
      " [0.44003595 0.19816383 1.38753759 ... 0.57873591 1.74273971 1.09598752]\n",
      " [1.53679418 0.29351742 1.03290776 ... 0.57873591 0.57380915 1.09598752]\n",
      " ...\n",
      " [0.60498839 0.27860412 0.68712986 ... 0.57873591 0.57380915 1.09598752]\n",
      " [1.25683526 0.29351742 0.69598177 ... 1.72790383 0.57380915 0.91241915]\n",
      " [1.46377078 1.04143285 0.35020386 ... 0.57873591 0.57380915 1.09598752]]\n"
     ]
    },
    {
     "data": {
      "text/plain": [
       "10000"
      ]
     },
     "execution_count": 11,
     "metadata": {},
     "output_type": "execute_result"
    }
   ],
   "source": [
    "# Z-Score\n",
    "\n",
    "from scipy import stats\n",
    "\n",
    "X = df.iloc[:, :-1].values\n",
    "y = df.iloc[:, -1].values\n",
    "z = np.abs(stats.zscore(X))\n",
    "print(z)\n",
    "len(z)"
   ]
  },
  {
   "cell_type": "code",
   "execution_count": 58,
   "metadata": {},
   "outputs": [
    {
     "name": "stdout",
     "output_type": "stream",
     "text": [
      "(array([   7,   70,   85,  158,  230,  252,  310,  371,  602,  766,  888,\n",
      "       1009, 1039, 1055, 1205, 1254, 1342, 1405, 1410, 1469, 1488, 1614,\n",
      "       1631, 1701, 1790, 1838, 1876, 1933, 1962, 2002, 2012, 2108, 2124,\n",
      "       2159, 2164, 2196, 2285, 2433, 2458, 2462, 2473, 2499, 2509, 2541,\n",
      "       2553, 2614, 2617, 2772, 2778, 2855, 2872, 2901, 2925, 3033, 3110,\n",
      "       3142, 3152, 3311, 3317, 3365, 3366, 3378, 3382, 3387, 3396, 3499,\n",
      "       3531, 3602, 3651, 3691, 3702, 3813, 3826, 3841, 3880, 3888, 3994,\n",
      "       4013, 4014, 4162, 4166, 4256, 4260, 4273, 4318, 4366, 4378, 4403,\n",
      "       4501, 4511, 4516, 4590, 4606, 4644, 4654, 4748, 4801, 4815, 4822,\n",
      "       4832, 4931, 5010, 5068, 5137, 5197, 5223, 5235, 5299, 5313, 5377,\n",
      "       5386, 5490, 5508, 5664, 5671, 5700, 5783, 5840, 5904, 5957, 6116,\n",
      "       6150, 6167, 6172, 6173, 6230, 6278, 6279, 6366, 6443, 6530, 6581,\n",
      "       6721, 6750, 6759, 6875, 7057, 7058, 7063, 7202, 7243, 7257, 7272,\n",
      "       7302, 7362, 7375, 7457, 7499, 7523, 7526, 7552, 7567, 7692, 7698,\n",
      "       7719, 7724, 7729, 7788, 7898, 7956, 8019, 8041, 8156, 8217, 8458,\n",
      "       8469, 8590, 8683, 8686, 8723, 8762, 8787, 8850, 8865, 8900, 8923,\n",
      "       9080, 9112, 9215, 9255, 9292, 9309, 9323, 9324, 9333, 9370, 9411,\n",
      "       9425, 9472, 9490, 9540, 9555, 9565, 9587, 9589, 9624, 9646, 9671,\n",
      "       9736, 9894, 9936], dtype=int64), array([4, 4, 1, 1, 1, 1, 1, 1, 1, 1, 1, 1, 1, 1, 1, 4, 1, 0, 1, 4, 4, 1,\n",
      "       0, 4, 1, 0, 4, 1, 0, 1, 1, 1, 4, 1, 1, 4, 4, 1, 1, 4, 0, 4, 4, 4,\n",
      "       1, 4, 4, 1, 1, 1, 4, 1, 1, 1, 1, 1, 4, 1, 1, 4, 1, 1, 1, 1, 1, 1,\n",
      "       1, 1, 1, 1, 1, 1, 1, 4, 1, 1, 1, 4, 4, 1, 4, 1, 4, 1, 1, 1, 1, 4,\n",
      "       1, 4, 4, 1, 4, 1, 4, 4, 1, 1, 4, 1, 1, 4, 1, 4, 1, 1, 4, 1, 1, 1,\n",
      "       4, 1, 1, 1, 1, 4, 1, 1, 4, 1, 1, 4, 1, 4, 1, 1, 1, 4, 1, 1, 1, 1,\n",
      "       1, 4, 1, 4, 1, 1, 1, 1, 1, 4, 1, 1, 1, 1, 4, 1, 1, 1, 1, 4, 1, 4,\n",
      "       1, 4, 4, 1, 1, 1, 1, 4, 1, 1, 1, 1, 4, 4, 1, 0, 0, 1, 4, 1, 1, 4,\n",
      "       1, 1, 4, 4, 1, 1, 4, 1, 1, 4, 4, 1, 1, 1, 4, 1, 4, 1, 1, 0, 1, 1,\n",
      "       1, 1, 1], dtype=int64))\n"
     ]
    },
    {
     "data": {
      "text/plain": [
       "9799"
      ]
     },
     "execution_count": 58,
     "metadata": {},
     "output_type": "execute_result"
    }
   ],
   "source": [
    "arr = np.where(z > 3)\n",
    "print(arr)\n",
    "\n",
    "X = np.delete(X, arr[0], axis=0)\n",
    "y = np.delete(y, arr[0], axis=0)\n",
    "\n",
    "len(y)"
   ]
  },
  {
   "cell_type": "code",
   "execution_count": 35,
   "metadata": {},
   "outputs": [
    {
     "name": "stderr",
     "output_type": "stream",
     "text": [
      "C:\\Users\\User\\Anaconda3\\lib\\site-packages\\sklearn\\ensemble\\iforest.py:247: FutureWarning: behaviour=\"old\" is deprecated and will be removed in version 0.22. Please use behaviour=\"new\", which makes the decision_function change to match other anomaly detection algorithm API.\n",
      "  FutureWarning)\n",
      "[Parallel(n_jobs=2)]: Using backend ThreadingBackend with 2 concurrent workers.\n",
      "[Parallel(n_jobs=2)]: Done   2 out of   2 | elapsed:    0.2s remaining:    0.0s\n",
      "[Parallel(n_jobs=2)]: Done   2 out of   2 | elapsed:    0.3s finished\n",
      "C:\\Users\\User\\Anaconda3\\lib\\site-packages\\sklearn\\ensemble\\iforest.py:415: DeprecationWarning: threshold_ attribute is deprecated in 0.20 and will be removed in 0.22.\n",
      "  \" be removed in 0.22.\", DeprecationWarning)\n"
     ]
    },
    {
     "name": "stdout",
     "output_type": "stream",
     "text": [
      "(array([-1,  1]), array([ 375, 7125], dtype=int64))\n"
     ]
    }
   ],
   "source": [
    "# Outlier detection\n",
    "\n",
    "from sklearn.ensemble import IsolationForest\n",
    "\n",
    "X = df.iloc[:, :-1].values\n",
    "y = df.iloc[:, -1].values\n",
    "X_train, X_test, y_train, y_test = train_test_split(X, y, test_size = 0.25, random_state = 101)\n",
    "iso = IsolationForest(n_jobs = -1, random_state = 101, verbose = 1, contamination=0.05)\n",
    "iso.fit(X_train)\n",
    "prediction = iso.predict(X_train)\n",
    "\n",
    "print(np.unique(prediction, return_counts = True))"
   ]
  },
  {
   "cell_type": "code",
   "execution_count": 36,
   "metadata": {},
   "outputs": [
    {
     "data": {
      "text/plain": [
       "7500"
      ]
     },
     "execution_count": 36,
     "metadata": {},
     "output_type": "execute_result"
    }
   ],
   "source": [
    "len(prediction)"
   ]
  },
  {
   "cell_type": "code",
   "execution_count": 37,
   "metadata": {},
   "outputs": [
    {
     "name": "stdout",
     "output_type": "stream",
     "text": [
      "Counter({1: 7125, -1: 375})\n",
      "7125\n",
      "7125\n"
     ]
    }
   ],
   "source": [
    "from collections import Counter\n",
    "print(Counter(prediction))\n",
    "\n",
    "counter = 0\n",
    "for i in prediction:\n",
    "    if i == -1:\n",
    "        X_train = np.delete(X_train, list(prediction).index(i) - counter, axis = 0)\n",
    "        y_train = np.delete(y_train, list(prediction).index(i) - counter)\n",
    "        counter += 1\n",
    "        \n",
    "print(len(X_train))\n",
    "print(len(y_train))"
   ]
  },
  {
   "cell_type": "code",
   "execution_count": 38,
   "metadata": {},
   "outputs": [
    {
     "name": "stdout",
     "output_type": "stream",
     "text": [
      "[[1887   88]\n",
      " [ 243  282]]\n",
      "              precision    recall  f1-score   support\n",
      "\n",
      "           0       0.89      0.96      0.92      1975\n",
      "           1       0.76      0.54      0.63       525\n",
      "\n",
      "    accuracy                           0.87      2500\n",
      "   macro avg       0.82      0.75      0.77      2500\n",
      "weighted avg       0.86      0.87      0.86      2500\n",
      "\n"
     ]
    }
   ],
   "source": [
    "# XGBoost Machine Learning after outlier detection\n",
    "\n",
    "import xgboost as xgb\n",
    "from sklearn.model_selection import train_test_split, cross_val_score\n",
    "from sklearn.metrics import confusion_matrix, classification_report\n",
    "\n",
    "xg_class = xgb.XGBClassifier(objective = 'binary:logistic', max_depth = 10, alpha = 10, \n",
    "                             n_estimators = 100, learning_rate = 0.1)\n",
    "xg_class.fit(X_train, y_train)\n",
    "predictions = xg_class.predict(X_test)\n",
    "print(confusion_matrix(y_test, predictions))\n",
    "print(classification_report(y_test, predictions))\n",
    "\n",
    "# We did not get better scores"
   ]
  },
  {
   "cell_type": "code",
   "execution_count": 39,
   "metadata": {},
   "outputs": [
    {
     "name": "stdout",
     "output_type": "stream",
     "text": [
      "[[1884   91]\n",
      " [ 240  285]]\n",
      "              precision    recall  f1-score   support\n",
      "\n",
      "           0       0.89      0.95      0.92      1975\n",
      "           1       0.76      0.54      0.63       525\n",
      "\n",
      "    accuracy                           0.87      2500\n",
      "   macro avg       0.82      0.75      0.78      2500\n",
      "weighted avg       0.86      0.87      0.86      2500\n",
      "\n"
     ]
    }
   ],
   "source": [
    "# XGBoost Machine Learning without outlier detection\n",
    "\n",
    "import xgboost as xgb\n",
    "from sklearn.model_selection import train_test_split, cross_val_score\n",
    "from sklearn.metrics import confusion_matrix, classification_report\n",
    "\n",
    "X = df.iloc[:, :-1].values\n",
    "y = df.iloc[:, -1].values\n",
    "\n",
    "# dmatrix = xgb.DMatrix(data = X, label = y)\n",
    "X_train, X_test, y_train, y_test = train_test_split(X, y, test_size = 0.25, random_state = 101)\n",
    "xg_class = xgb.XGBClassifier(objective = 'binary:logistic', max_depth = 10, alpha = 10, \n",
    "                             n_estimators = 100, learning_rate = 0.1)\n",
    "xg_class.fit(X_train, y_train)\n",
    "predictions = xg_class.predict(X_test)\n",
    "print(confusion_matrix(y_test, predictions))\n",
    "print(classification_report(y_test, predictions))"
   ]
  },
  {
   "cell_type": "code",
   "execution_count": 33,
   "metadata": {},
   "outputs": [],
   "source": [
    "#Artifical Neural Network\n",
    "\n",
    "X = df.iloc[:, :-1].values\n",
    "y = df.iloc[:, -1].values\n",
    "\n",
    "from sklearn.model_selection import train_test_split\n",
    "from sklearn.preprocessing import MinMaxScaler\n",
    "\n",
    "X_train, X_test, y_train, y_test = train_test_split(X, y, test_size = 0.3, random_state = 101)\n",
    "\n",
    "scaler = MinMaxScaler()\n",
    "X_train = scaler.fit_transform(X_train)\n",
    "X_test = scaler.transform(X_test)\n",
    "\n",
    "print(X_train.shape)\n",
    "print(X_test.shape)"
   ]
  },
  {
   "cell_type": "code",
   "execution_count": 35,
   "metadata": {},
   "outputs": [
    {
     "name": "stderr",
     "output_type": "stream",
     "text": [
      "Using TensorFlow backend.\n"
     ]
    }
   ],
   "source": [
    "import tensorflow as tf\n",
    "from tensorflow.keras.models import Sequential\n",
    "from tensorflow.keras.layers import Dropout, Dense\n",
    "from numpy.random import seed\n",
    "\n",
    "from sklearn.model_selection import GridSearchCV\n",
    "from tensorflow.keras.wrappers.scikit_learn import KerasClassifier\n",
    "from keras.callbacks import EarlyStopping, ModelCheckpoint"
   ]
  },
  {
   "cell_type": "code",
   "execution_count": 42,
   "metadata": {},
   "outputs": [
    {
     "name": "stdout",
     "output_type": "stream",
     "text": [
      "Train on 7000 samples, validate on 3000 samples\n",
      "Epoch 1/120\n",
      "7000/7000 - 6s - loss: 0.6347 - accuracy: 0.6433 - val_loss: 0.5223 - val_accuracy: 0.7927\n",
      "Epoch 2/120\n",
      "7000/7000 - 1s - loss: 0.5647 - accuracy: 0.7370 - val_loss: 0.5086 - val_accuracy: 0.7927\n",
      "Epoch 3/120\n",
      "7000/7000 - 1s - loss: 0.5435 - accuracy: 0.7856 - val_loss: 0.4972 - val_accuracy: 0.7927\n",
      "Epoch 4/120\n",
      "7000/7000 - 1s - loss: 0.5242 - accuracy: 0.7970 - val_loss: 0.4920 - val_accuracy: 0.7927\n",
      "Epoch 5/120\n",
      "7000/7000 - 1s - loss: 0.5093 - accuracy: 0.7979 - val_loss: 0.4841 - val_accuracy: 0.7927\n",
      "Epoch 6/120\n",
      "7000/7000 - 1s - loss: 0.4935 - accuracy: 0.7979 - val_loss: 0.4749 - val_accuracy: 0.7927\n",
      "Epoch 7/120\n",
      "7000/7000 - 1s - loss: 0.4867 - accuracy: 0.7999 - val_loss: 0.4689 - val_accuracy: 0.7927\n",
      "Epoch 8/120\n",
      "7000/7000 - 1s - loss: 0.4815 - accuracy: 0.8019 - val_loss: 0.4627 - val_accuracy: 0.7923\n",
      "Epoch 9/120\n",
      "7000/7000 - 1s - loss: 0.4755 - accuracy: 0.8009 - val_loss: 0.4589 - val_accuracy: 0.7927\n",
      "Epoch 10/120\n",
      "7000/7000 - 1s - loss: 0.4721 - accuracy: 0.8020 - val_loss: 0.4540 - val_accuracy: 0.7933\n",
      "Epoch 11/120\n",
      "7000/7000 - 1s - loss: 0.4680 - accuracy: 0.8046 - val_loss: 0.4525 - val_accuracy: 0.7930\n",
      "Epoch 12/120\n",
      "7000/7000 - 1s - loss: 0.4700 - accuracy: 0.8067 - val_loss: 0.4495 - val_accuracy: 0.8030\n",
      "Epoch 13/120\n",
      "7000/7000 - 1s - loss: 0.4649 - accuracy: 0.8049 - val_loss: 0.4458 - val_accuracy: 0.7943\n",
      "Epoch 14/120\n",
      "7000/7000 - 1s - loss: 0.4648 - accuracy: 0.8064 - val_loss: 0.4476 - val_accuracy: 0.7950\n",
      "Epoch 15/120\n",
      "7000/7000 - 1s - loss: 0.4607 - accuracy: 0.8073 - val_loss: 0.4410 - val_accuracy: 0.7993\n",
      "Epoch 16/120\n",
      "7000/7000 - 1s - loss: 0.4586 - accuracy: 0.8090 - val_loss: 0.4379 - val_accuracy: 0.8090\n",
      "Epoch 17/120\n",
      "7000/7000 - 1s - loss: 0.4574 - accuracy: 0.8081 - val_loss: 0.4351 - val_accuracy: 0.8113\n",
      "Epoch 18/120\n",
      "7000/7000 - 1s - loss: 0.4576 - accuracy: 0.8096 - val_loss: 0.4333 - val_accuracy: 0.8120\n",
      "Epoch 19/120\n",
      "7000/7000 - 1s - loss: 0.4555 - accuracy: 0.8096 - val_loss: 0.4363 - val_accuracy: 0.8060\n",
      "Epoch 20/120\n",
      "7000/7000 - 1s - loss: 0.4483 - accuracy: 0.8096 - val_loss: 0.4304 - val_accuracy: 0.8143\n",
      "Epoch 21/120\n",
      "7000/7000 - 1s - loss: 0.4462 - accuracy: 0.8123 - val_loss: 0.4275 - val_accuracy: 0.8193\n",
      "Epoch 22/120\n",
      "7000/7000 - 1s - loss: 0.4483 - accuracy: 0.8100 - val_loss: 0.4279 - val_accuracy: 0.8170\n",
      "Epoch 23/120\n",
      "7000/7000 - 1s - loss: 0.4493 - accuracy: 0.8107 - val_loss: 0.4257 - val_accuracy: 0.8180\n",
      "Epoch 24/120\n",
      "7000/7000 - 1s - loss: 0.4428 - accuracy: 0.8147 - val_loss: 0.4242 - val_accuracy: 0.8187\n",
      "Epoch 25/120\n",
      "7000/7000 - 1s - loss: 0.4454 - accuracy: 0.8104 - val_loss: 0.4237 - val_accuracy: 0.8187\n",
      "Epoch 26/120\n",
      "7000/7000 - 1s - loss: 0.4414 - accuracy: 0.8179 - val_loss: 0.4239 - val_accuracy: 0.8177\n",
      "Epoch 27/120\n",
      "7000/7000 - 1s - loss: 0.4371 - accuracy: 0.8146 - val_loss: 0.4169 - val_accuracy: 0.8223\n",
      "Epoch 28/120\n",
      "7000/7000 - 1s - loss: 0.4431 - accuracy: 0.8101 - val_loss: 0.4137 - val_accuracy: 0.8237\n",
      "Epoch 29/120\n",
      "7000/7000 - 0s - loss: 0.4296 - accuracy: 0.8211 - val_loss: 0.4086 - val_accuracy: 0.8283\n",
      "Epoch 30/120\n",
      "7000/7000 - 1s - loss: 0.4303 - accuracy: 0.8201 - val_loss: 0.4046 - val_accuracy: 0.8310\n",
      "Epoch 31/120\n",
      "7000/7000 - 1s - loss: 0.4297 - accuracy: 0.8219 - val_loss: 0.4006 - val_accuracy: 0.8380\n",
      "Epoch 32/120\n",
      "7000/7000 - 1s - loss: 0.4223 - accuracy: 0.8260 - val_loss: 0.3947 - val_accuracy: 0.8410\n",
      "Epoch 33/120\n",
      "7000/7000 - 1s - loss: 0.4203 - accuracy: 0.8257 - val_loss: 0.3923 - val_accuracy: 0.8443\n",
      "Epoch 34/120\n",
      "7000/7000 - 1s - loss: 0.4195 - accuracy: 0.8269 - val_loss: 0.3866 - val_accuracy: 0.8473\n",
      "Epoch 35/120\n",
      "7000/7000 - 1s - loss: 0.4117 - accuracy: 0.8331 - val_loss: 0.3844 - val_accuracy: 0.8517\n",
      "Epoch 36/120\n",
      "7000/7000 - 1s - loss: 0.4102 - accuracy: 0.8296 - val_loss: 0.3787 - val_accuracy: 0.8540\n",
      "Epoch 37/120\n",
      "7000/7000 - 1s - loss: 0.4100 - accuracy: 0.8309 - val_loss: 0.3758 - val_accuracy: 0.8523\n",
      "Epoch 38/120\n",
      "7000/7000 - 1s - loss: 0.4041 - accuracy: 0.8361 - val_loss: 0.3741 - val_accuracy: 0.8513\n",
      "Epoch 39/120\n",
      "7000/7000 - 1s - loss: 0.4038 - accuracy: 0.8343 - val_loss: 0.3745 - val_accuracy: 0.8503\n",
      "Epoch 40/120\n",
      "7000/7000 - 1s - loss: 0.4064 - accuracy: 0.8354 - val_loss: 0.3753 - val_accuracy: 0.8520\n",
      "Epoch 41/120\n",
      "7000/7000 - 1s - loss: 0.4031 - accuracy: 0.8366 - val_loss: 0.3696 - val_accuracy: 0.8530\n",
      "Epoch 42/120\n",
      "7000/7000 - 1s - loss: 0.3985 - accuracy: 0.8347 - val_loss: 0.3698 - val_accuracy: 0.8507\n",
      "Epoch 43/120\n",
      "7000/7000 - 0s - loss: 0.3999 - accuracy: 0.8351 - val_loss: 0.3664 - val_accuracy: 0.8547\n",
      "Epoch 44/120\n",
      "7000/7000 - 0s - loss: 0.3988 - accuracy: 0.8391 - val_loss: 0.3664 - val_accuracy: 0.8563\n",
      "Epoch 45/120\n",
      "7000/7000 - 0s - loss: 0.3894 - accuracy: 0.8417 - val_loss: 0.3632 - val_accuracy: 0.8587\n",
      "Epoch 46/120\n",
      "7000/7000 - 0s - loss: 0.3897 - accuracy: 0.8420 - val_loss: 0.3623 - val_accuracy: 0.8587\n",
      "Epoch 47/120\n",
      "7000/7000 - 0s - loss: 0.4001 - accuracy: 0.8393 - val_loss: 0.3620 - val_accuracy: 0.8587\n",
      "Epoch 48/120\n",
      "7000/7000 - 0s - loss: 0.3991 - accuracy: 0.8376 - val_loss: 0.3645 - val_accuracy: 0.8553\n",
      "Epoch 49/120\n",
      "7000/7000 - 0s - loss: 0.4004 - accuracy: 0.8361 - val_loss: 0.3615 - val_accuracy: 0.8577\n",
      "Epoch 50/120\n",
      "7000/7000 - 0s - loss: 0.3949 - accuracy: 0.8391 - val_loss: 0.3612 - val_accuracy: 0.8573\n",
      "Epoch 51/120\n",
      "7000/7000 - 0s - loss: 0.3923 - accuracy: 0.8404 - val_loss: 0.3607 - val_accuracy: 0.8567\n",
      "Epoch 52/120\n",
      "7000/7000 - 0s - loss: 0.3926 - accuracy: 0.8393 - val_loss: 0.3611 - val_accuracy: 0.8587\n",
      "Epoch 53/120\n",
      "7000/7000 - 0s - loss: 0.3883 - accuracy: 0.8403 - val_loss: 0.3588 - val_accuracy: 0.8573\n",
      "Epoch 54/120\n",
      "7000/7000 - 0s - loss: 0.3977 - accuracy: 0.8389 - val_loss: 0.3579 - val_accuracy: 0.8593\n",
      "Epoch 55/120\n",
      "7000/7000 - 0s - loss: 0.3924 - accuracy: 0.8389 - val_loss: 0.3547 - val_accuracy: 0.8593\n",
      "Epoch 56/120\n",
      "7000/7000 - 0s - loss: 0.3957 - accuracy: 0.8391 - val_loss: 0.3580 - val_accuracy: 0.8563\n",
      "Epoch 57/120\n",
      "7000/7000 - 0s - loss: 0.3954 - accuracy: 0.8359 - val_loss: 0.3560 - val_accuracy: 0.8590\n",
      "Epoch 58/120\n",
      "7000/7000 - 0s - loss: 0.3883 - accuracy: 0.8421 - val_loss: 0.3538 - val_accuracy: 0.8590\n",
      "Epoch 59/120\n",
      "7000/7000 - 0s - loss: 0.3869 - accuracy: 0.8383 - val_loss: 0.3557 - val_accuracy: 0.8580\n",
      "Epoch 60/120\n",
      "7000/7000 - 0s - loss: 0.3908 - accuracy: 0.8403 - val_loss: 0.3563 - val_accuracy: 0.8577\n",
      "Epoch 61/120\n",
      "7000/7000 - 1s - loss: 0.3931 - accuracy: 0.8363 - val_loss: 0.3558 - val_accuracy: 0.8577\n",
      "Epoch 62/120\n",
      "7000/7000 - 0s - loss: 0.3849 - accuracy: 0.8437 - val_loss: 0.3540 - val_accuracy: 0.8583\n",
      "Epoch 63/120\n",
      "7000/7000 - 0s - loss: 0.3944 - accuracy: 0.8397 - val_loss: 0.3602 - val_accuracy: 0.8580\n",
      "Epoch 64/120\n",
      "7000/7000 - 0s - loss: 0.3898 - accuracy: 0.8436 - val_loss: 0.3556 - val_accuracy: 0.8567\n",
      "Epoch 65/120\n",
      "7000/7000 - 0s - loss: 0.3895 - accuracy: 0.8376 - val_loss: 0.3545 - val_accuracy: 0.8590\n",
      "Epoch 66/120\n",
      "7000/7000 - 0s - loss: 0.3864 - accuracy: 0.8384 - val_loss: 0.3553 - val_accuracy: 0.8593\n",
      "Epoch 67/120\n",
      "7000/7000 - 0s - loss: 0.3847 - accuracy: 0.8404 - val_loss: 0.3530 - val_accuracy: 0.8577\n",
      "Epoch 68/120\n",
      "7000/7000 - 0s - loss: 0.3875 - accuracy: 0.8396 - val_loss: 0.3532 - val_accuracy: 0.8583\n",
      "Epoch 69/120\n",
      "7000/7000 - 0s - loss: 0.3888 - accuracy: 0.8421 - val_loss: 0.3548 - val_accuracy: 0.8593\n",
      "Epoch 70/120\n",
      "7000/7000 - 0s - loss: 0.3837 - accuracy: 0.8396 - val_loss: 0.3567 - val_accuracy: 0.8560\n",
      "Epoch 71/120\n",
      "7000/7000 - 0s - loss: 0.3867 - accuracy: 0.8389 - val_loss: 0.3520 - val_accuracy: 0.8580\n",
      "Epoch 72/120\n",
      "7000/7000 - 0s - loss: 0.3860 - accuracy: 0.8419 - val_loss: 0.3526 - val_accuracy: 0.8573\n",
      "Epoch 73/120\n",
      "7000/7000 - 0s - loss: 0.3846 - accuracy: 0.8401 - val_loss: 0.3545 - val_accuracy: 0.8563\n",
      "Epoch 74/120\n",
      "7000/7000 - 0s - loss: 0.3903 - accuracy: 0.8373 - val_loss: 0.3529 - val_accuracy: 0.8597\n",
      "Epoch 75/120\n",
      "7000/7000 - 0s - loss: 0.3939 - accuracy: 0.8361 - val_loss: 0.3559 - val_accuracy: 0.8603\n",
      "Epoch 76/120\n",
      "7000/7000 - 0s - loss: 0.3920 - accuracy: 0.8383 - val_loss: 0.3515 - val_accuracy: 0.8600\n",
      "Epoch 77/120\n",
      "7000/7000 - 0s - loss: 0.3841 - accuracy: 0.8417 - val_loss: 0.3519 - val_accuracy: 0.8590\n",
      "Epoch 78/120\n",
      "7000/7000 - 0s - loss: 0.3839 - accuracy: 0.8399 - val_loss: 0.3546 - val_accuracy: 0.8603\n",
      "Epoch 79/120\n",
      "7000/7000 - 0s - loss: 0.3848 - accuracy: 0.8407 - val_loss: 0.3512 - val_accuracy: 0.8583\n"
     ]
    },
    {
     "name": "stdout",
     "output_type": "stream",
     "text": [
      "Epoch 80/120\n",
      "7000/7000 - 0s - loss: 0.3853 - accuracy: 0.8396 - val_loss: 0.3517 - val_accuracy: 0.8583\n",
      "Epoch 81/120\n",
      "7000/7000 - 0s - loss: 0.3804 - accuracy: 0.8431 - val_loss: 0.3507 - val_accuracy: 0.8590\n",
      "Epoch 82/120\n",
      "7000/7000 - 0s - loss: 0.3883 - accuracy: 0.8417 - val_loss: 0.3515 - val_accuracy: 0.8607\n",
      "Epoch 83/120\n",
      "7000/7000 - 0s - loss: 0.3831 - accuracy: 0.8427 - val_loss: 0.3500 - val_accuracy: 0.8593\n",
      "Epoch 84/120\n",
      "7000/7000 - 0s - loss: 0.3841 - accuracy: 0.8401 - val_loss: 0.3550 - val_accuracy: 0.8587\n",
      "Epoch 85/120\n",
      "7000/7000 - 0s - loss: 0.3829 - accuracy: 0.8404 - val_loss: 0.3513 - val_accuracy: 0.8600\n",
      "Epoch 86/120\n",
      "7000/7000 - 0s - loss: 0.3858 - accuracy: 0.8394 - val_loss: 0.3497 - val_accuracy: 0.8587\n",
      "Epoch 87/120\n",
      "7000/7000 - 0s - loss: 0.3849 - accuracy: 0.8417 - val_loss: 0.3510 - val_accuracy: 0.8583\n",
      "Epoch 88/120\n",
      "7000/7000 - 1s - loss: 0.3814 - accuracy: 0.8381 - val_loss: 0.3515 - val_accuracy: 0.8607\n",
      "Epoch 89/120\n",
      "7000/7000 - 0s - loss: 0.3864 - accuracy: 0.8393 - val_loss: 0.3519 - val_accuracy: 0.8590\n",
      "Epoch 90/120\n",
      "7000/7000 - 0s - loss: 0.3864 - accuracy: 0.8420 - val_loss: 0.3527 - val_accuracy: 0.8580\n",
      "Epoch 91/120\n",
      "7000/7000 - 0s - loss: 0.3826 - accuracy: 0.8443 - val_loss: 0.3508 - val_accuracy: 0.8567\n",
      "Epoch 92/120\n",
      "7000/7000 - 1s - loss: 0.3831 - accuracy: 0.8394 - val_loss: 0.3512 - val_accuracy: 0.8590\n",
      "Epoch 93/120\n",
      "7000/7000 - 1s - loss: 0.3908 - accuracy: 0.8391 - val_loss: 0.3521 - val_accuracy: 0.8597\n",
      "Epoch 94/120\n",
      "7000/7000 - 1s - loss: 0.3810 - accuracy: 0.8394 - val_loss: 0.3502 - val_accuracy: 0.8587\n",
      "Epoch 95/120\n",
      "7000/7000 - 1s - loss: 0.3816 - accuracy: 0.8413 - val_loss: 0.3506 - val_accuracy: 0.8593\n",
      "Epoch 96/120\n",
      "7000/7000 - 1s - loss: 0.3820 - accuracy: 0.8424 - val_loss: 0.3496 - val_accuracy: 0.8590\n",
      "Epoch 97/120\n",
      "7000/7000 - 1s - loss: 0.3837 - accuracy: 0.8436 - val_loss: 0.3495 - val_accuracy: 0.8597\n",
      "Epoch 98/120\n",
      "7000/7000 - 1s - loss: 0.3847 - accuracy: 0.8406 - val_loss: 0.3491 - val_accuracy: 0.8607\n",
      "Epoch 99/120\n",
      "7000/7000 - 1s - loss: 0.3799 - accuracy: 0.8437 - val_loss: 0.3507 - val_accuracy: 0.8613\n",
      "Epoch 100/120\n",
      "7000/7000 - 1s - loss: 0.3854 - accuracy: 0.8387 - val_loss: 0.3488 - val_accuracy: 0.8567\n",
      "Epoch 101/120\n",
      "7000/7000 - 0s - loss: 0.3842 - accuracy: 0.8381 - val_loss: 0.3509 - val_accuracy: 0.8580\n",
      "Epoch 102/120\n",
      "7000/7000 - 1s - loss: 0.3809 - accuracy: 0.8417 - val_loss: 0.3492 - val_accuracy: 0.8603\n",
      "Epoch 103/120\n",
      "7000/7000 - 1s - loss: 0.3921 - accuracy: 0.8353 - val_loss: 0.3503 - val_accuracy: 0.8597\n",
      "Epoch 104/120\n",
      "7000/7000 - 1s - loss: 0.3847 - accuracy: 0.8371 - val_loss: 0.3517 - val_accuracy: 0.8607\n",
      "Epoch 105/120\n",
      "7000/7000 - 1s - loss: 0.3820 - accuracy: 0.8377 - val_loss: 0.3495 - val_accuracy: 0.8603\n",
      "Epoch 106/120\n",
      "7000/7000 - 1s - loss: 0.3831 - accuracy: 0.8381 - val_loss: 0.3498 - val_accuracy: 0.8590\n",
      "Epoch 107/120\n",
      "7000/7000 - 1s - loss: 0.3836 - accuracy: 0.8413 - val_loss: 0.3509 - val_accuracy: 0.8610\n",
      "Epoch 108/120\n",
      "7000/7000 - 0s - loss: 0.3837 - accuracy: 0.8389 - val_loss: 0.3510 - val_accuracy: 0.8593\n",
      "Epoch 109/120\n",
      "7000/7000 - 1s - loss: 0.3826 - accuracy: 0.8394 - val_loss: 0.3491 - val_accuracy: 0.8587\n",
      "Epoch 110/120\n",
      "7000/7000 - 1s - loss: 0.3814 - accuracy: 0.8414 - val_loss: 0.3517 - val_accuracy: 0.8573\n",
      "Epoch 111/120\n",
      "7000/7000 - 1s - loss: 0.3857 - accuracy: 0.8394 - val_loss: 0.3484 - val_accuracy: 0.8637\n",
      "Epoch 112/120\n",
      "7000/7000 - 1s - loss: 0.3841 - accuracy: 0.8393 - val_loss: 0.3492 - val_accuracy: 0.8610\n",
      "Epoch 113/120\n",
      "7000/7000 - 1s - loss: 0.3823 - accuracy: 0.8417 - val_loss: 0.3491 - val_accuracy: 0.8590\n",
      "Epoch 114/120\n",
      "7000/7000 - 1s - loss: 0.3835 - accuracy: 0.8400 - val_loss: 0.3484 - val_accuracy: 0.8593\n",
      "Epoch 115/120\n",
      "7000/7000 - 0s - loss: 0.3813 - accuracy: 0.8410 - val_loss: 0.3472 - val_accuracy: 0.8570\n",
      "Epoch 116/120\n",
      "7000/7000 - 1s - loss: 0.3811 - accuracy: 0.8444 - val_loss: 0.3489 - val_accuracy: 0.8617\n",
      "Epoch 117/120\n",
      "7000/7000 - 1s - loss: 0.3834 - accuracy: 0.8376 - val_loss: 0.3492 - val_accuracy: 0.8617\n",
      "Epoch 118/120\n",
      "7000/7000 - 0s - loss: 0.3791 - accuracy: 0.8449 - val_loss: 0.3496 - val_accuracy: 0.8613\n",
      "Epoch 119/120\n",
      "7000/7000 - 1s - loss: 0.3784 - accuracy: 0.8419 - val_loss: 0.3470 - val_accuracy: 0.8613\n",
      "Epoch 120/120\n",
      "7000/7000 - 1s - loss: 0.3788 - accuracy: 0.8420 - val_loss: 0.3481 - val_accuracy: 0.8623\n"
     ]
    }
   ],
   "source": [
    "def churn_model(opt = 'nadam'):\n",
    "    seed(101)\n",
    "    tf.random.set_seed(101)\n",
    "\n",
    "    model = Sequential()\n",
    "\n",
    "    model.add(Dense(units = 11, activation = 'relu'))\n",
    "    model.add(Dropout(0.2))\n",
    "\n",
    "    model.add(Dense(units = 6, activation = 'relu'))\n",
    "    model.add(Dropout(0.2))\n",
    "\n",
    "    model.add(Dense(units = 6, activation = 'relu'))\n",
    "    model.add(Dropout(0.2))\n",
    "\n",
    "    model.add(Dense(units = 1, activation = 'sigmoid'))\n",
    "\n",
    "    model.compile(loss = 'binary_crossentropy', optimizer = opt, metrics = ['accuracy'])\n",
    "    return model\n",
    "model = churn_model()\n",
    "training = model.fit(X_train, y_train, epochs = 120, batch_size = 64, verbose = 2,\n",
    "                     validation_data = (X_test, y_test))"
   ]
  },
  {
   "cell_type": "code",
   "execution_count": 43,
   "metadata": {},
   "outputs": [
    {
     "data": {
      "text/plain": [
       "<matplotlib.legend.Legend at 0x18ea7608>"
      ]
     },
     "execution_count": 43,
     "metadata": {},
     "output_type": "execute_result"
    },
    {
     "data": {
      "image/png": "[encoded data removed]",
      "text/plain": [
       "<Figure size 720x576 with 1 Axes>"
      ]
     },
     "metadata": {
      "needs_background": "light"
     },
     "output_type": "display_data"
    }
   ],
   "source": [
    "losses = pd.DataFrame(training.history)\n",
    "plt.figure(figsize = (10, 8))\n",
    "plt.plot(losses['loss'], label = 'loss')\n",
    "plt.plot(losses['val_loss'], label = 'validation_loss')\n",
    "plt.title('Model losses')\n",
    "plt.ylabel('Loss')\n",
    "plt.xlabel('Epoch')\n",
    "plt.legend()"
   ]
  },
  {
   "cell_type": "code",
   "execution_count": 44,
   "metadata": {},
   "outputs": [
    {
     "name": "stdout",
     "output_type": "stream",
     "text": [
      "              precision    recall  f1-score   support\n",
      "\n",
      "           0       0.87      0.98      0.92      2378\n",
      "           1       0.83      0.42      0.56       622\n",
      "\n",
      "    accuracy                           0.86      3000\n",
      "   macro avg       0.85      0.70      0.74      3000\n",
      "weighted avg       0.86      0.86      0.84      3000\n",
      "\n",
      "\n",
      "\n",
      "[[2323   55]\n",
      " [ 358  264]]\n"
     ]
    }
   ],
   "source": [
    "from sklearn.metrics import classification_report, confusion_matrix\n",
    "\n",
    "prediction = model.predict_classes(X_test)\n",
    "\n",
    "print(classification_report(y_test, prediction))\n",
    "print('\\n')\n",
    "print(confusion_matrix(y_test, prediction))"
   ]
  },
  {
   "cell_type": "code",
   "execution_count": 41,
   "metadata": {},
   "outputs": [
    {
     "name": "stdout",
     "output_type": "stream",
     "text": [
      "Fitting 3 folds for each of 6 candidates, totalling 18 fits\n"
     ]
    },
    {
     "name": "stderr",
     "output_type": "stream",
     "text": [
      "[Parallel(n_jobs=-1)]: Using backend LokyBackend with 2 concurrent workers.\n",
      "[Parallel(n_jobs=-1)]: Done  18 out of  18 | elapsed: 10.5min finished\n"
     ]
    },
    {
     "data": {
      "text/plain": [
       "{'batch_size': 64, 'epochs': 100}"
      ]
     },
     "execution_count": 41,
     "metadata": {},
     "output_type": "execute_result"
    }
   ],
   "source": [
    "# GridsearchCV on fitting parameters\n",
    "\n",
    "model = KerasClassifier(build_fn = churn_model, verbose = 0)\n",
    "\n",
    "batch_size = [16, 32, 64]\n",
    "epochs = [50, 100]\n",
    "param_grid = dict(batch_size = batch_size, epochs = epochs)\n",
    "\n",
    "grid = GridSearchCV(estimator = model, \n",
    "                    param_grid = param_grid,\n",
    "                    cv = 3,\n",
    "                    verbose = 2, n_jobs = -1)\n",
    "\n",
    "grid_result = grid.fit(X_train, y_train)\n",
    "grid.best_params_"
   ]
  },
  {
   "cell_type": "code",
   "execution_count": 39,
   "metadata": {},
   "outputs": [
    {
     "name": "stderr",
     "output_type": "stream",
     "text": [
      "C:\\Users\\User\\Anaconda3\\lib\\site-packages\\sklearn\\model_selection\\_split.py:1978: FutureWarning: The default value of cv will change from 3 to 5 in version 0.22. Specify it explicitly to silence this warning.\n",
      "  warnings.warn(CV_WARNING, FutureWarning)\n",
      "[Parallel(n_jobs=1)]: Using backend SequentialBackend with 1 concurrent workers.\n"
     ]
    },
    {
     "name": "stdout",
     "output_type": "stream",
     "text": [
      "Fitting 3 folds for each of 4 candidates, totalling 12 fits\n",
      "[CV] opt=RMSprop .....................................................\n",
      "[CV] ...................................... opt=RMSprop, total=  58.1s\n",
      "[CV] opt=RMSprop .....................................................\n"
     ]
    },
    {
     "name": "stderr",
     "output_type": "stream",
     "text": [
      "[Parallel(n_jobs=1)]: Done   1 out of   1 | elapsed:   58.0s remaining:    0.0s\n"
     ]
    },
    {
     "name": "stdout",
     "output_type": "stream",
     "text": [
      "[CV] ...................................... opt=RMSprop, total=  53.8s\n",
      "[CV] opt=RMSprop .....................................................\n",
      "[CV] ...................................... opt=RMSprop, total=  53.5s\n",
      "[CV] opt=Adadelta ....................................................\n",
      "[CV] ..................................... opt=Adadelta, total=  43.3s\n",
      "[CV] opt=Adadelta ....................................................\n",
      "[CV] ..................................... opt=Adadelta, total=  37.6s\n",
      "[CV] opt=Adadelta ....................................................\n",
      "[CV] ..................................... opt=Adadelta, total=  35.1s\n",
      "[CV] opt=Adam ........................................................\n",
      "[CV] ......................................... opt=Adam, total=  42.4s\n",
      "[CV] opt=Adam ........................................................\n",
      "[CV] ......................................... opt=Adam, total=  40.4s\n",
      "[CV] opt=Adam ........................................................\n",
      "[CV] ......................................... opt=Adam, total=  41.3s\n",
      "[CV] opt=Nadam .......................................................\n",
      "[CV] ........................................ opt=Nadam, total=  42.6s\n",
      "[CV] opt=Nadam .......................................................\n",
      "[CV] ........................................ opt=Nadam, total=  44.3s\n",
      "[CV] opt=Nadam .......................................................\n",
      "[CV] ........................................ opt=Nadam, total=  42.6s\n"
     ]
    },
    {
     "name": "stderr",
     "output_type": "stream",
     "text": [
      "[Parallel(n_jobs=1)]: Done  12 out of  12 | elapsed:  8.9min finished\n"
     ]
    }
   ],
   "source": [
    "# Optimizer optimization\n",
    "\n",
    "model = KerasClassifier(build_fn=churn_model, epochs=75, batch_size=32, verbose=0)\n",
    "\n",
    "optimizer = ['RMSprop', 'Adadelta', 'Adam', 'Nadam']\n",
    "param_grid = dict(opt=optimizer)\n",
    "\n",
    "grid = GridSearchCV(estimator=model, param_grid=param_grid, verbose=2)\n",
    "grid_result = grid.fit(X_train, y_train)"
   ]
  },
  {
   "cell_type": "code",
   "execution_count": 40,
   "metadata": {},
   "outputs": [
    {
     "name": "stdout",
     "output_type": "stream",
     "text": [
      "Best: 0.851857 using {'opt': 'Nadam'}\n",
      "0.830857 (0.002657) with: {'opt': 'RMSprop'}\n",
      "0.750571 (0.007415) with: {'opt': 'Adadelta'}\n",
      "0.849571 (0.004729) with: {'opt': 'Adam'}\n",
      "0.851857 (0.002548) with: {'opt': 'Nadam'}\n"
     ]
    }
   ],
   "source": [
    "# summarize results\n",
    "print(\"Best: %f using %s\" % (grid_result.best_score_, grid_result.best_params_))\n",
    "means = grid_result.cv_results_['mean_test_score']\n",
    "stds = grid_result.cv_results_['std_test_score']\n",
    "params = grid_result.cv_results_['params']\n",
    "for mean, stdev, param in zip(means, stds, params):\n",
    "    print(\"%f (%f) with: %r\" % (mean, stdev, param))"
   ]
  },
  {
   "cell_type": "code",
   "execution_count": null,
   "metadata": {},
   "outputs": [],
   "source": []
  }
 ],
 "metadata": {
  "kernelspec": {
   "display_name": "Python 3",
   "language": "python",
   "name": "python3"
  },
  "language_info": {
   "codemirror_mode": {
    "name": "ipython",
    "version": 3
   },
   "file_extension": ".py",
   "mimetype": "text/x-python",
   "name": "python",
   "nbconvert_exporter": "python",
   "pygments_lexer": "ipython3",
   "version": "3.7.4"
  }
 },
 "nbformat": 4,
 "nbformat_minor": 2
}
