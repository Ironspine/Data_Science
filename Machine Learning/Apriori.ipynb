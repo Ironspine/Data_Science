{
 "cells": [
  {
   "cell_type": "code",
   "execution_count": 1,
   "metadata": {},
   "outputs": [],
   "source": [
    "import pandas as pd\n",
    "import numpy as np\n",
    "import matplotlib.pyplot as plt"
   ]
  },
  {
   "cell_type": "code",
   "execution_count": 2,
   "metadata": {},
   "outputs": [
    {
     "data": {
      "text/html": [
       "<div>\n",
       "<style scoped>\n",
       "    .dataframe tbody tr th:only-of-type {\n",
       "        vertical-align: middle;\n",
       "    }\n",
       "\n",
       "    .dataframe tbody tr th {\n",
       "        vertical-align: top;\n",
       "    }\n",
       "\n",
       "    .dataframe thead th {\n",
       "        text-align: right;\n",
       "    }\n",
       "</style>\n",
       "<table border=\"1\" class=\"dataframe\">\n",
       "  <thead>\n",
       "    <tr style=\"text-align: right;\">\n",
       "      <th></th>\n",
       "      <th>0</th>\n",
       "      <th>1</th>\n",
       "      <th>2</th>\n",
       "      <th>3</th>\n",
       "      <th>4</th>\n",
       "      <th>5</th>\n",
       "      <th>6</th>\n",
       "      <th>7</th>\n",
       "      <th>8</th>\n",
       "      <th>9</th>\n",
       "      <th>...</th>\n",
       "      <th>19</th>\n",
       "      <th>20</th>\n",
       "      <th>21</th>\n",
       "      <th>22</th>\n",
       "      <th>23</th>\n",
       "      <th>24</th>\n",
       "      <th>25</th>\n",
       "      <th>26</th>\n",
       "      <th>27</th>\n",
       "      <th>28</th>\n",
       "    </tr>\n",
       "  </thead>\n",
       "  <tbody>\n",
       "    <tr>\n",
       "      <td>0</td>\n",
       "      <td>25</td>\n",
       "      <td>52.0</td>\n",
       "      <td>164.0</td>\n",
       "      <td>240.0</td>\n",
       "      <td>274.0</td>\n",
       "      <td>328.0</td>\n",
       "      <td>368.0</td>\n",
       "      <td>448.0</td>\n",
       "      <td>538.0</td>\n",
       "      <td>561.0</td>\n",
       "      <td>...</td>\n",
       "      <td>NaN</td>\n",
       "      <td>NaN</td>\n",
       "      <td>NaN</td>\n",
       "      <td>NaN</td>\n",
       "      <td>NaN</td>\n",
       "      <td>NaN</td>\n",
       "      <td>NaN</td>\n",
       "      <td>NaN</td>\n",
       "      <td>NaN</td>\n",
       "      <td>NaN</td>\n",
       "    </tr>\n",
       "    <tr>\n",
       "      <td>1</td>\n",
       "      <td>39</td>\n",
       "      <td>120.0</td>\n",
       "      <td>124.0</td>\n",
       "      <td>205.0</td>\n",
       "      <td>401.0</td>\n",
       "      <td>581.0</td>\n",
       "      <td>704.0</td>\n",
       "      <td>814.0</td>\n",
       "      <td>825.0</td>\n",
       "      <td>834.0</td>\n",
       "      <td>...</td>\n",
       "      <td>NaN</td>\n",
       "      <td>NaN</td>\n",
       "      <td>NaN</td>\n",
       "      <td>NaN</td>\n",
       "      <td>NaN</td>\n",
       "      <td>NaN</td>\n",
       "      <td>NaN</td>\n",
       "      <td>NaN</td>\n",
       "      <td>NaN</td>\n",
       "      <td>NaN</td>\n",
       "    </tr>\n",
       "    <tr>\n",
       "      <td>2</td>\n",
       "      <td>35</td>\n",
       "      <td>249.0</td>\n",
       "      <td>674.0</td>\n",
       "      <td>712.0</td>\n",
       "      <td>733.0</td>\n",
       "      <td>759.0</td>\n",
       "      <td>854.0</td>\n",
       "      <td>950.0</td>\n",
       "      <td>NaN</td>\n",
       "      <td>NaN</td>\n",
       "      <td>...</td>\n",
       "      <td>NaN</td>\n",
       "      <td>NaN</td>\n",
       "      <td>NaN</td>\n",
       "      <td>NaN</td>\n",
       "      <td>NaN</td>\n",
       "      <td>NaN</td>\n",
       "      <td>NaN</td>\n",
       "      <td>NaN</td>\n",
       "      <td>NaN</td>\n",
       "      <td>NaN</td>\n",
       "    </tr>\n",
       "    <tr>\n",
       "      <td>3</td>\n",
       "      <td>39</td>\n",
       "      <td>422.0</td>\n",
       "      <td>449.0</td>\n",
       "      <td>704.0</td>\n",
       "      <td>825.0</td>\n",
       "      <td>857.0</td>\n",
       "      <td>895.0</td>\n",
       "      <td>937.0</td>\n",
       "      <td>954.0</td>\n",
       "      <td>964.0</td>\n",
       "      <td>...</td>\n",
       "      <td>NaN</td>\n",
       "      <td>NaN</td>\n",
       "      <td>NaN</td>\n",
       "      <td>NaN</td>\n",
       "      <td>NaN</td>\n",
       "      <td>NaN</td>\n",
       "      <td>NaN</td>\n",
       "      <td>NaN</td>\n",
       "      <td>NaN</td>\n",
       "      <td>NaN</td>\n",
       "    </tr>\n",
       "    <tr>\n",
       "      <td>4</td>\n",
       "      <td>15</td>\n",
       "      <td>229.0</td>\n",
       "      <td>262.0</td>\n",
       "      <td>283.0</td>\n",
       "      <td>294.0</td>\n",
       "      <td>352.0</td>\n",
       "      <td>381.0</td>\n",
       "      <td>708.0</td>\n",
       "      <td>738.0</td>\n",
       "      <td>766.0</td>\n",
       "      <td>...</td>\n",
       "      <td>NaN</td>\n",
       "      <td>NaN</td>\n",
       "      <td>NaN</td>\n",
       "      <td>NaN</td>\n",
       "      <td>NaN</td>\n",
       "      <td>NaN</td>\n",
       "      <td>NaN</td>\n",
       "      <td>NaN</td>\n",
       "      <td>NaN</td>\n",
       "      <td>NaN</td>\n",
       "    </tr>\n",
       "    <tr>\n",
       "      <td>...</td>\n",
       "      <td>...</td>\n",
       "      <td>...</td>\n",
       "      <td>...</td>\n",
       "      <td>...</td>\n",
       "      <td>...</td>\n",
       "      <td>...</td>\n",
       "      <td>...</td>\n",
       "      <td>...</td>\n",
       "      <td>...</td>\n",
       "      <td>...</td>\n",
       "      <td>...</td>\n",
       "      <td>...</td>\n",
       "      <td>...</td>\n",
       "      <td>...</td>\n",
       "      <td>...</td>\n",
       "      <td>...</td>\n",
       "      <td>...</td>\n",
       "      <td>...</td>\n",
       "      <td>...</td>\n",
       "      <td>...</td>\n",
       "      <td>...</td>\n",
       "    </tr>\n",
       "    <tr>\n",
       "      <td>99995</td>\n",
       "      <td>39</td>\n",
       "      <td>132.0</td>\n",
       "      <td>623.0</td>\n",
       "      <td>704.0</td>\n",
       "      <td>795.0</td>\n",
       "      <td>825.0</td>\n",
       "      <td>853.0</td>\n",
       "      <td>NaN</td>\n",
       "      <td>NaN</td>\n",
       "      <td>NaN</td>\n",
       "      <td>...</td>\n",
       "      <td>NaN</td>\n",
       "      <td>NaN</td>\n",
       "      <td>NaN</td>\n",
       "      <td>NaN</td>\n",
       "      <td>NaN</td>\n",
       "      <td>NaN</td>\n",
       "      <td>NaN</td>\n",
       "      <td>NaN</td>\n",
       "      <td>NaN</td>\n",
       "      <td>NaN</td>\n",
       "    </tr>\n",
       "    <tr>\n",
       "      <td>99996</td>\n",
       "      <td>72</td>\n",
       "      <td>120.0</td>\n",
       "      <td>241.0</td>\n",
       "      <td>268.0</td>\n",
       "      <td>351.0</td>\n",
       "      <td>354.0</td>\n",
       "      <td>545.0</td>\n",
       "      <td>567.0</td>\n",
       "      <td>606.0</td>\n",
       "      <td>749.0</td>\n",
       "      <td>...</td>\n",
       "      <td>NaN</td>\n",
       "      <td>NaN</td>\n",
       "      <td>NaN</td>\n",
       "      <td>NaN</td>\n",
       "      <td>NaN</td>\n",
       "      <td>NaN</td>\n",
       "      <td>NaN</td>\n",
       "      <td>NaN</td>\n",
       "      <td>NaN</td>\n",
       "      <td>NaN</td>\n",
       "    </tr>\n",
       "    <tr>\n",
       "      <td>99997</td>\n",
       "      <td>82</td>\n",
       "      <td>313.0</td>\n",
       "      <td>406.0</td>\n",
       "      <td>421.0</td>\n",
       "      <td>438.0</td>\n",
       "      <td>629.0</td>\n",
       "      <td>NaN</td>\n",
       "      <td>NaN</td>\n",
       "      <td>NaN</td>\n",
       "      <td>NaN</td>\n",
       "      <td>...</td>\n",
       "      <td>NaN</td>\n",
       "      <td>NaN</td>\n",
       "      <td>NaN</td>\n",
       "      <td>NaN</td>\n",
       "      <td>NaN</td>\n",
       "      <td>NaN</td>\n",
       "      <td>NaN</td>\n",
       "      <td>NaN</td>\n",
       "      <td>NaN</td>\n",
       "      <td>NaN</td>\n",
       "    </tr>\n",
       "    <tr>\n",
       "      <td>99998</td>\n",
       "      <td>69</td>\n",
       "      <td>75.0</td>\n",
       "      <td>140.0</td>\n",
       "      <td>175.0</td>\n",
       "      <td>285.0</td>\n",
       "      <td>494.0</td>\n",
       "      <td>598.0</td>\n",
       "      <td>614.0</td>\n",
       "      <td>641.0</td>\n",
       "      <td>723.0</td>\n",
       "      <td>...</td>\n",
       "      <td>NaN</td>\n",
       "      <td>NaN</td>\n",
       "      <td>NaN</td>\n",
       "      <td>NaN</td>\n",
       "      <td>NaN</td>\n",
       "      <td>NaN</td>\n",
       "      <td>NaN</td>\n",
       "      <td>NaN</td>\n",
       "      <td>NaN</td>\n",
       "      <td>NaN</td>\n",
       "    </tr>\n",
       "    <tr>\n",
       "      <td>99999</td>\n",
       "      <td>32</td>\n",
       "      <td>239.0</td>\n",
       "      <td>372.0</td>\n",
       "      <td>419.0</td>\n",
       "      <td>448.0</td>\n",
       "      <td>510.0</td>\n",
       "      <td>540.0</td>\n",
       "      <td>581.0</td>\n",
       "      <td>674.0</td>\n",
       "      <td>752.0</td>\n",
       "      <td>...</td>\n",
       "      <td>NaN</td>\n",
       "      <td>NaN</td>\n",
       "      <td>NaN</td>\n",
       "      <td>NaN</td>\n",
       "      <td>NaN</td>\n",
       "      <td>NaN</td>\n",
       "      <td>NaN</td>\n",
       "      <td>NaN</td>\n",
       "      <td>NaN</td>\n",
       "      <td>NaN</td>\n",
       "    </tr>\n",
       "  </tbody>\n",
       "</table>\n",
       "<p>100000 rows × 29 columns</p>\n",
       "</div>"
      ],
      "text/plain": [
       "       0      1      2      3      4      5      6      7      8      9   ...  \\\n",
       "0      25   52.0  164.0  240.0  274.0  328.0  368.0  448.0  538.0  561.0  ...   \n",
       "1      39  120.0  124.0  205.0  401.0  581.0  704.0  814.0  825.0  834.0  ...   \n",
       "2      35  249.0  674.0  712.0  733.0  759.0  854.0  950.0    NaN    NaN  ...   \n",
       "3      39  422.0  449.0  704.0  825.0  857.0  895.0  937.0  954.0  964.0  ...   \n",
       "4      15  229.0  262.0  283.0  294.0  352.0  381.0  708.0  738.0  766.0  ...   \n",
       "...    ..    ...    ...    ...    ...    ...    ...    ...    ...    ...  ...   \n",
       "99995  39  132.0  623.0  704.0  795.0  825.0  853.0    NaN    NaN    NaN  ...   \n",
       "99996  72  120.0  241.0  268.0  351.0  354.0  545.0  567.0  606.0  749.0  ...   \n",
       "99997  82  313.0  406.0  421.0  438.0  629.0    NaN    NaN    NaN    NaN  ...   \n",
       "99998  69   75.0  140.0  175.0  285.0  494.0  598.0  614.0  641.0  723.0  ...   \n",
       "99999  32  239.0  372.0  419.0  448.0  510.0  540.0  581.0  674.0  752.0  ...   \n",
       "\n",
       "       19  20  21  22  23  24  25  26  27  28  \n",
       "0     NaN NaN NaN NaN NaN NaN NaN NaN NaN NaN  \n",
       "1     NaN NaN NaN NaN NaN NaN NaN NaN NaN NaN  \n",
       "2     NaN NaN NaN NaN NaN NaN NaN NaN NaN NaN  \n",
       "3     NaN NaN NaN NaN NaN NaN NaN NaN NaN NaN  \n",
       "4     NaN NaN NaN NaN NaN NaN NaN NaN NaN NaN  \n",
       "...    ..  ..  ..  ..  ..  ..  ..  ..  ..  ..  \n",
       "99995 NaN NaN NaN NaN NaN NaN NaN NaN NaN NaN  \n",
       "99996 NaN NaN NaN NaN NaN NaN NaN NaN NaN NaN  \n",
       "99997 NaN NaN NaN NaN NaN NaN NaN NaN NaN NaN  \n",
       "99998 NaN NaN NaN NaN NaN NaN NaN NaN NaN NaN  \n",
       "99999 NaN NaN NaN NaN NaN NaN NaN NaN NaN NaN  \n",
       "\n",
       "[100000 rows x 29 columns]"
      ]
     },
     "execution_count": 2,
     "metadata": {},
     "output_type": "execute_result"
    }
   ],
   "source": [
    "# PROBLEM 1\n",
    "# Task 1\n",
    "T10I4D100K = pd.read_excel(\"Project_VK/T10I4D100K.xlsx\", header=None) # saved it into an excel file \n",
    "T10I4D100K"
   ]
  },
  {
   "cell_type": "code",
   "execution_count": 3,
   "metadata": {},
   "outputs": [
    {
     "name": "stderr",
     "output_type": "stream",
     "text": [
      "apriori - find frequent item sets with the apriori algorithm\n",
      "version 6.29 (2020.06.15)        (c) 1996-2020   Christian Borgelt\n",
      "reading T10I4D100K.dat ... [870 item(s), 100000 transaction(s)] done [0.13s].\n",
      "filtering, sorting and recoding items ... [867 item(s)] done [0.00s].\n",
      "sorting and reducing transactions ... [89135/100000 transaction(s)] done [0.04s].\n",
      "building transaction tree ... [112369 node(s)] done [0.02s].\n",
      "checking subsets of size 1 2 3 4 5 6 7 8 9 10 11 done [3.10s].\n",
      "writing output1a.rules ... [411365 set(s)] done [0.22s].\n"
     ]
    }
   ],
   "source": [
    "!apriori -ts -s0.01 T10I4D100K.dat output1a.rules"
   ]
  },
  {
   "cell_type": "code",
   "execution_count": 4,
   "metadata": {},
   "outputs": [],
   "source": [
    "# I ran the apriori with -ts option at a 0.01% support threshold on the T10I4D100K dataset\n",
    "# Number of frequent items produced: 411 365\n",
    "# The total executing times was ~ 3.5 seconds"
   ]
  },
  {
   "cell_type": "code",
   "execution_count": 5,
   "metadata": {},
   "outputs": [
    {
     "name": "stderr",
     "output_type": "stream",
     "text": [
      "apriori - find frequent item sets with the apriori algorithm\n",
      "version 6.29 (2020.06.15)        (c) 1996-2020   Christian Borgelt\n",
      "reading T10I4D100K.dat ... [870 item(s), 100000 transaction(s)] done [0.11s].\n",
      "filtering, sorting and recoding items ... [859 item(s)] done [0.00s].\n",
      "sorting and reducing transactions ... [89135/100000 transaction(s)] done [0.04s].\n",
      "building transaction tree ... [112373 node(s)] done [0.03s].\n",
      "checking subsets of size 1 2 3 4 5 6 7 8 9 10 done [1.61s].\n",
      "writing output1b.rules ... [129875 set(s)] done [0.07s].\n"
     ]
    }
   ],
   "source": [
    "!apriori -ts -s0.02 T10I4D100K.dat output1b.rules"
   ]
  },
  {
   "cell_type": "code",
   "execution_count": 6,
   "metadata": {},
   "outputs": [],
   "source": [
    "# I ran the apriori with -ts option at a 0.02% support threshold on the T10I4D100K dataset\n",
    "# Number of frequent items produced: 129 875\n",
    "# The total executing times was ~ 2.0 seconds"
   ]
  },
  {
   "cell_type": "code",
   "execution_count": 7,
   "metadata": {},
   "outputs": [
    {
     "name": "stderr",
     "output_type": "stream",
     "text": [
      "apriori - find frequent item sets with the apriori algorithm\n",
      "version 6.29 (2020.06.15)        (c) 1996-2020   Christian Borgelt\n",
      "reading T10I4D100K.dat ... [870 item(s), 100000 transaction(s)] done [0.11s].\n",
      "filtering, sorting and recoding items ... [853 item(s)] done [0.00s].\n",
      "sorting and reducing transactions ... [89134/100000 transaction(s)] done [0.04s].\n",
      "building transaction tree ... [112398 node(s)] done [0.03s].\n",
      "checking subsets of size 1 2 3 4 5 6 7 8 9 10 done [1.18s].\n",
      "writing output1c.rules ... [82163 set(s)] done [0.04s].\n"
     ]
    }
   ],
   "source": [
    "!apriori -ts -s0.03 T10I4D100K.dat output1c.rules"
   ]
  },
  {
   "cell_type": "code",
   "execution_count": 8,
   "metadata": {},
   "outputs": [],
   "source": [
    "# I ran the apriori with -ts option at a 0.03% support threshold on the T10I4D100K dataset\n",
    "# Number of frequent items produced: 82 163\n",
    "# The total executing times was ~ 1.4 seconds"
   ]
  },
  {
   "cell_type": "code",
   "execution_count": 9,
   "metadata": {},
   "outputs": [
    {
     "data": {
      "text/plain": [
       "Text(0, 0.5, 'Number of frequent itemsets')"
      ]
     },
     "execution_count": 9,
     "metadata": {},
     "output_type": "execute_result"
    },
    {
     "data": {
      "image/png": "[encoded data removed]",
      "text/plain": [
       "<Figure size 648x432 with 1 Axes>"
      ]
     },
     "metadata": {
      "needs_background": "light"
     },
     "output_type": "display_data"
    }
   ],
   "source": [
    "plt.figure(figsize=(9,6))\n",
    "plt.plot(['0.01 %', '0.02 %', '0.03 %'], [411365, 129875, 82163])\n",
    "plt.title('Number of frequent itemsets at different thresholds')\n",
    "plt.xlabel('Support threshold')\n",
    "plt.ylabel('Number of frequent itemsets')"
   ]
  },
  {
   "cell_type": "code",
   "execution_count": 10,
   "metadata": {},
   "outputs": [],
   "source": [
    "# The performance of the algorithm in terms of taken time was inversely proportional to \n",
    "# the support threshold\n",
    "# Reason: the number of frequent itemsets produced are also inversely proportional to support\n",
    "# threshold, as more itmesets were created at lower thresholds "
   ]
  },
  {
   "cell_type": "code",
   "execution_count": 11,
   "metadata": {},
   "outputs": [
    {
     "data": {
      "text/html": [
       "<div>\n",
       "<style scoped>\n",
       "    .dataframe tbody tr th:only-of-type {\n",
       "        vertical-align: middle;\n",
       "    }\n",
       "\n",
       "    .dataframe tbody tr th {\n",
       "        vertical-align: top;\n",
       "    }\n",
       "\n",
       "    .dataframe thead th {\n",
       "        text-align: right;\n",
       "    }\n",
       "</style>\n",
       "<table border=\"1\" class=\"dataframe\">\n",
       "  <thead>\n",
       "    <tr style=\"text-align: right;\">\n",
       "      <th></th>\n",
       "      <th>0</th>\n",
       "      <th>1</th>\n",
       "      <th>2</th>\n",
       "      <th>3</th>\n",
       "      <th>4</th>\n",
       "      <th>5</th>\n",
       "      <th>6</th>\n",
       "      <th>7</th>\n",
       "      <th>8</th>\n",
       "      <th>9</th>\n",
       "      <th>...</th>\n",
       "      <th>13</th>\n",
       "      <th>14</th>\n",
       "      <th>15</th>\n",
       "      <th>16</th>\n",
       "      <th>17</th>\n",
       "      <th>18</th>\n",
       "      <th>19</th>\n",
       "      <th>20</th>\n",
       "      <th>21</th>\n",
       "      <th>22</th>\n",
       "    </tr>\n",
       "  </thead>\n",
       "  <tbody>\n",
       "    <tr>\n",
       "      <td>0</td>\n",
       "      <td>1</td>\n",
       "      <td>3</td>\n",
       "      <td>9</td>\n",
       "      <td>13</td>\n",
       "      <td>23</td>\n",
       "      <td>25</td>\n",
       "      <td>34</td>\n",
       "      <td>36</td>\n",
       "      <td>38</td>\n",
       "      <td>40</td>\n",
       "      <td>...</td>\n",
       "      <td>63</td>\n",
       "      <td>67</td>\n",
       "      <td>76</td>\n",
       "      <td>85</td>\n",
       "      <td>86</td>\n",
       "      <td>90</td>\n",
       "      <td>93</td>\n",
       "      <td>98</td>\n",
       "      <td>107</td>\n",
       "      <td>113</td>\n",
       "    </tr>\n",
       "    <tr>\n",
       "      <td>1</td>\n",
       "      <td>2</td>\n",
       "      <td>3</td>\n",
       "      <td>9</td>\n",
       "      <td>14</td>\n",
       "      <td>23</td>\n",
       "      <td>26</td>\n",
       "      <td>34</td>\n",
       "      <td>36</td>\n",
       "      <td>39</td>\n",
       "      <td>40</td>\n",
       "      <td>...</td>\n",
       "      <td>63</td>\n",
       "      <td>67</td>\n",
       "      <td>76</td>\n",
       "      <td>85</td>\n",
       "      <td>86</td>\n",
       "      <td>90</td>\n",
       "      <td>93</td>\n",
       "      <td>99</td>\n",
       "      <td>108</td>\n",
       "      <td>114</td>\n",
       "    </tr>\n",
       "    <tr>\n",
       "      <td>2</td>\n",
       "      <td>2</td>\n",
       "      <td>4</td>\n",
       "      <td>9</td>\n",
       "      <td>15</td>\n",
       "      <td>23</td>\n",
       "      <td>27</td>\n",
       "      <td>34</td>\n",
       "      <td>36</td>\n",
       "      <td>39</td>\n",
       "      <td>41</td>\n",
       "      <td>...</td>\n",
       "      <td>63</td>\n",
       "      <td>67</td>\n",
       "      <td>76</td>\n",
       "      <td>85</td>\n",
       "      <td>86</td>\n",
       "      <td>90</td>\n",
       "      <td>93</td>\n",
       "      <td>99</td>\n",
       "      <td>108</td>\n",
       "      <td>115</td>\n",
       "    </tr>\n",
       "    <tr>\n",
       "      <td>3</td>\n",
       "      <td>1</td>\n",
       "      <td>3</td>\n",
       "      <td>10</td>\n",
       "      <td>15</td>\n",
       "      <td>23</td>\n",
       "      <td>25</td>\n",
       "      <td>34</td>\n",
       "      <td>36</td>\n",
       "      <td>38</td>\n",
       "      <td>41</td>\n",
       "      <td>...</td>\n",
       "      <td>63</td>\n",
       "      <td>67</td>\n",
       "      <td>76</td>\n",
       "      <td>85</td>\n",
       "      <td>86</td>\n",
       "      <td>90</td>\n",
       "      <td>93</td>\n",
       "      <td>98</td>\n",
       "      <td>107</td>\n",
       "      <td>113</td>\n",
       "    </tr>\n",
       "    <tr>\n",
       "      <td>4</td>\n",
       "      <td>2</td>\n",
       "      <td>3</td>\n",
       "      <td>9</td>\n",
       "      <td>16</td>\n",
       "      <td>24</td>\n",
       "      <td>28</td>\n",
       "      <td>34</td>\n",
       "      <td>37</td>\n",
       "      <td>39</td>\n",
       "      <td>40</td>\n",
       "      <td>...</td>\n",
       "      <td>63</td>\n",
       "      <td>67</td>\n",
       "      <td>76</td>\n",
       "      <td>85</td>\n",
       "      <td>86</td>\n",
       "      <td>90</td>\n",
       "      <td>94</td>\n",
       "      <td>99</td>\n",
       "      <td>109</td>\n",
       "      <td>114</td>\n",
       "    </tr>\n",
       "    <tr>\n",
       "      <td>...</td>\n",
       "      <td>...</td>\n",
       "      <td>...</td>\n",
       "      <td>...</td>\n",
       "      <td>...</td>\n",
       "      <td>...</td>\n",
       "      <td>...</td>\n",
       "      <td>...</td>\n",
       "      <td>...</td>\n",
       "      <td>...</td>\n",
       "      <td>...</td>\n",
       "      <td>...</td>\n",
       "      <td>...</td>\n",
       "      <td>...</td>\n",
       "      <td>...</td>\n",
       "      <td>...</td>\n",
       "      <td>...</td>\n",
       "      <td>...</td>\n",
       "      <td>...</td>\n",
       "      <td>...</td>\n",
       "      <td>...</td>\n",
       "      <td>...</td>\n",
       "    </tr>\n",
       "    <tr>\n",
       "      <td>8119</td>\n",
       "      <td>2</td>\n",
       "      <td>7</td>\n",
       "      <td>9</td>\n",
       "      <td>13</td>\n",
       "      <td>24</td>\n",
       "      <td>28</td>\n",
       "      <td>35</td>\n",
       "      <td>36</td>\n",
       "      <td>39</td>\n",
       "      <td>50</td>\n",
       "      <td>...</td>\n",
       "      <td>63</td>\n",
       "      <td>73</td>\n",
       "      <td>83</td>\n",
       "      <td>85</td>\n",
       "      <td>88</td>\n",
       "      <td>90</td>\n",
       "      <td>93</td>\n",
       "      <td>106</td>\n",
       "      <td>112</td>\n",
       "      <td>119</td>\n",
       "    </tr>\n",
       "    <tr>\n",
       "      <td>8120</td>\n",
       "      <td>2</td>\n",
       "      <td>3</td>\n",
       "      <td>9</td>\n",
       "      <td>13</td>\n",
       "      <td>24</td>\n",
       "      <td>28</td>\n",
       "      <td>35</td>\n",
       "      <td>36</td>\n",
       "      <td>39</td>\n",
       "      <td>50</td>\n",
       "      <td>...</td>\n",
       "      <td>63</td>\n",
       "      <td>73</td>\n",
       "      <td>83</td>\n",
       "      <td>85</td>\n",
       "      <td>87</td>\n",
       "      <td>90</td>\n",
       "      <td>93</td>\n",
       "      <td>106</td>\n",
       "      <td>110</td>\n",
       "      <td>119</td>\n",
       "    </tr>\n",
       "    <tr>\n",
       "      <td>8121</td>\n",
       "      <td>2</td>\n",
       "      <td>6</td>\n",
       "      <td>9</td>\n",
       "      <td>13</td>\n",
       "      <td>24</td>\n",
       "      <td>28</td>\n",
       "      <td>35</td>\n",
       "      <td>36</td>\n",
       "      <td>39</td>\n",
       "      <td>41</td>\n",
       "      <td>...</td>\n",
       "      <td>63</td>\n",
       "      <td>73</td>\n",
       "      <td>83</td>\n",
       "      <td>85</td>\n",
       "      <td>88</td>\n",
       "      <td>90</td>\n",
       "      <td>93</td>\n",
       "      <td>106</td>\n",
       "      <td>112</td>\n",
       "      <td>119</td>\n",
       "    </tr>\n",
       "    <tr>\n",
       "      <td>8122</td>\n",
       "      <td>1</td>\n",
       "      <td>7</td>\n",
       "      <td>10</td>\n",
       "      <td>13</td>\n",
       "      <td>24</td>\n",
       "      <td>31</td>\n",
       "      <td>34</td>\n",
       "      <td>36</td>\n",
       "      <td>38</td>\n",
       "      <td>48</td>\n",
       "      <td>...</td>\n",
       "      <td>66</td>\n",
       "      <td>67</td>\n",
       "      <td>76</td>\n",
       "      <td>85</td>\n",
       "      <td>86</td>\n",
       "      <td>90</td>\n",
       "      <td>94</td>\n",
       "      <td>102</td>\n",
       "      <td>110</td>\n",
       "      <td>119</td>\n",
       "    </tr>\n",
       "    <tr>\n",
       "      <td>8123</td>\n",
       "      <td>2</td>\n",
       "      <td>3</td>\n",
       "      <td>9</td>\n",
       "      <td>13</td>\n",
       "      <td>24</td>\n",
       "      <td>28</td>\n",
       "      <td>35</td>\n",
       "      <td>36</td>\n",
       "      <td>39</td>\n",
       "      <td>50</td>\n",
       "      <td>...</td>\n",
       "      <td>63</td>\n",
       "      <td>73</td>\n",
       "      <td>83</td>\n",
       "      <td>85</td>\n",
       "      <td>88</td>\n",
       "      <td>90</td>\n",
       "      <td>93</td>\n",
       "      <td>104</td>\n",
       "      <td>112</td>\n",
       "      <td>119</td>\n",
       "    </tr>\n",
       "  </tbody>\n",
       "</table>\n",
       "<p>8124 rows × 23 columns</p>\n",
       "</div>"
      ],
      "text/plain": [
       "      0   1   2   3   4   5   6   7   8   9   ...  13  14  15  16  17  18  19  \\\n",
       "0      1   3   9  13  23  25  34  36  38  40  ...  63  67  76  85  86  90  93   \n",
       "1      2   3   9  14  23  26  34  36  39  40  ...  63  67  76  85  86  90  93   \n",
       "2      2   4   9  15  23  27  34  36  39  41  ...  63  67  76  85  86  90  93   \n",
       "3      1   3  10  15  23  25  34  36  38  41  ...  63  67  76  85  86  90  93   \n",
       "4      2   3   9  16  24  28  34  37  39  40  ...  63  67  76  85  86  90  94   \n",
       "...   ..  ..  ..  ..  ..  ..  ..  ..  ..  ..  ...  ..  ..  ..  ..  ..  ..  ..   \n",
       "8119   2   7   9  13  24  28  35  36  39  50  ...  63  73  83  85  88  90  93   \n",
       "8120   2   3   9  13  24  28  35  36  39  50  ...  63  73  83  85  87  90  93   \n",
       "8121   2   6   9  13  24  28  35  36  39  41  ...  63  73  83  85  88  90  93   \n",
       "8122   1   7  10  13  24  31  34  36  38  48  ...  66  67  76  85  86  90  94   \n",
       "8123   2   3   9  13  24  28  35  36  39  50  ...  63  73  83  85  88  90  93   \n",
       "\n",
       "       20   21   22  \n",
       "0      98  107  113  \n",
       "1      99  108  114  \n",
       "2      99  108  115  \n",
       "3      98  107  113  \n",
       "4      99  109  114  \n",
       "...   ...  ...  ...  \n",
       "8119  106  112  119  \n",
       "8120  106  110  119  \n",
       "8121  106  112  119  \n",
       "8122  102  110  119  \n",
       "8123  104  112  119  \n",
       "\n",
       "[8124 rows x 23 columns]"
      ]
     },
     "execution_count": 11,
     "metadata": {},
     "output_type": "execute_result"
    }
   ],
   "source": [
    "# Task 2\n",
    "mushroom = pd.read_table(\"Project_VK/mushroom.dat\", sep=\"\\s+\", header=None)\n",
    "mushroom"
   ]
  },
  {
   "cell_type": "code",
   "execution_count": 12,
   "metadata": {},
   "outputs": [
    {
     "name": "stdout",
     "output_type": "stream",
     "text": [
      "all: 3755511\n",
      "  0: 0\n",
      "  1: 73\n",
      "  2: 1329\n",
      "  3: 10618\n",
      "  4: 48226\n",
      "  5: 144928\n",
      "  6: 315873\n",
      "  7: 527176\n",
      "  8: 692740\n",
      "  9: 723735\n",
      " 10: 600196\n",
      " 11: 391578\n",
      " 12: 197889\n",
      " 13: 75624\n",
      " 14: 21041\n",
      " 15: 4000\n",
      " 16: 461\n",
      " 17: 24\n"
     ]
    },
    {
     "name": "stderr",
     "output_type": "stream",
     "text": [
      "apriori - find frequent item sets with the apriori algorithm\n",
      "version 6.29 (2020.06.15)        (c) 1996-2020   Christian Borgelt\n",
      "reading mushroom.dat ... [119 item(s), 8124 transaction(s)] done [0.02s].\n",
      "filtering, sorting and recoding items ... [73 item(s)] done [0.00s].\n",
      "sorting and reducing transactions ... [7468/8124 transaction(s)] done [0.00s].\n",
      "building transaction tree ... [19672 node(s)] done [0.00s].\n",
      "checking subsets of size 1 2 3 4 5 6 7 8 9 10 done [0.75s].\n",
      "writing output2a.rules ... [3755511 set(s)] done [1.70s].\n"
     ]
    }
   ],
   "source": [
    "!apriori -ts -s5 -Z mushroom.dat output2a.rules"
   ]
  },
  {
   "cell_type": "code",
   "execution_count": 13,
   "metadata": {},
   "outputs": [
    {
     "data": {
      "text/plain": [
       "Text(0, 0.5, 'Number of itemsets')"
      ]
     },
     "execution_count": 13,
     "metadata": {},
     "output_type": "execute_result"
    },
    {
     "data": {
      "image/png": "[encoded data removed]",
      "text/plain": [
       "<Figure size 720x504 with 1 Axes>"
      ]
     },
     "metadata": {
      "needs_background": "light"
     },
     "output_type": "display_data"
    }
   ],
   "source": [
    "# Running apriori with -ts and -Z commands, 5% support threshold on this dataset I got the following\n",
    "# distribution plot of frequent set sizes\n",
    "frequent_item_sizes = [1329, 10618, 48226, 144928, 315873, 527176, 692740, 723735, 600196, \n",
    "                      391578, 197889, 75624, 21041, 4000] # I directly copied these numbers \n",
    "                                                          # from terminal\n",
    "plt.figure(figsize=(10,7))\n",
    "plt.bar(np.arange(2,16), frequent_item_sizes)\n",
    "plt.title('Distribution of frequent itemsets at 5 % support threshold')\n",
    "plt.xlabel('Subset size')\n",
    "plt.ylabel('Number of itemsets')\n",
    "# We obtained Gaussian curve, representing a Normal Distribution\n",
    "# We can clearly see that the highest subset size was obtained at 9"
   ]
  },
  {
   "cell_type": "code",
   "execution_count": 14,
   "metadata": {},
   "outputs": [
    {
     "name": "stdout",
     "output_type": "stream",
     "text": [
      "all: 574431\n",
      "  0: 0\n",
      "  1: 56\n",
      "  2: 763\n",
      "  3: 4593\n",
      "  4: 16150\n",
      "  5: 38800\n",
      "  6: 69835\n",
      "  7: 98846\n",
      "  8: 111786\n",
      "  9: 100660\n",
      " 10: 71342\n",
      " 11: 39171\n",
      " 12: 16292\n",
      " 13: 4956\n",
      " 14: 1039\n",
      " 15: 134\n",
      " 16: 8\n"
     ]
    },
    {
     "name": "stderr",
     "output_type": "stream",
     "text": [
      "apriori - find frequent item sets with the apriori algorithm\n",
      "version 6.29 (2020.06.15)        (c) 1996-2020   Christian Borgelt\n",
      "reading mushroom.dat ... [119 item(s), 8124 transaction(s)] done [0.02s].\n",
      "filtering, sorting and recoding items ... [56 item(s)] done [0.00s].\n",
      "sorting and reducing transactions ... [5608/8124 transaction(s)] done [0.00s].\n",
      "building transaction tree ... [18329 node(s)] done [0.00s].\n",
      "checking subsets of size 1 2 3 4 5 6 7 8 9 10 done [0.37s].\n",
      "writing output2b.rules ... [574431 set(s)] done [0.25s].\n"
     ]
    }
   ],
   "source": [
    "!apriori -ts -s10 -Z mushroom.dat output2b.rules"
   ]
  },
  {
   "cell_type": "code",
   "execution_count": 15,
   "metadata": {},
   "outputs": [
    {
     "data": {
      "text/plain": [
       "Text(0, 0.5, 'Number of itemsets')"
      ]
     },
     "execution_count": 15,
     "metadata": {},
     "output_type": "execute_result"
    },
    {
     "data": {
      "image/png": "[encoded data removed]",
      "text/plain": [
       "<Figure size 720x504 with 1 Axes>"
      ]
     },
     "metadata": {
      "needs_background": "light"
     },
     "output_type": "display_data"
    }
   ],
   "source": [
    "# Running apriori with -ts command, 10% support threshold on this dataset I got the following\n",
    "# distribution plot of frequent set sizes\n",
    "frequent_item_sizes = [763, 4593, 16150, 38800, 69835, 98846, 111786, 100660, 71342, 39171, 16292,\n",
    "                      4956, 1039, 134] # I directly copied these numbers from terminal\n",
    "plt.figure(figsize=(10,7))\n",
    "plt.bar(np.arange(2,16), frequent_item_sizes, color='purple')\n",
    "plt.title('Distribution of frequent itemsets at 10 % support threshold')\n",
    "plt.xlabel('Subset size')\n",
    "plt.ylabel('Number of itemsets')\n",
    "# A Normal Distribution plot was aobtained again\n",
    "# Highest subset size was obtained: 8"
   ]
  },
  {
   "cell_type": "code",
   "execution_count": 16,
   "metadata": {},
   "outputs": [
    {
     "name": "stdout",
     "output_type": "stream",
     "text": [
      "all: 53583\n",
      "  0: 0\n",
      "  1: 43\n",
      "  2: 376\n",
      "  3: 1472\n",
      "  4: 3559\n",
      "  5: 6267\n",
      "  6: 8802\n",
      "  7: 10151\n",
      "  8: 9488\n",
      "  9: 7010\n",
      " 10: 4004\n",
      " 11: 1729\n",
      " 12: 546\n",
      " 13: 119\n",
      " 14: 16\n",
      " 15: 1\n"
     ]
    },
    {
     "name": "stderr",
     "output_type": "stream",
     "text": [
      "apriori - find frequent item sets with the apriori algorithm\n",
      "version 6.29 (2020.06.15)        (c) 1996-2020   Christian Borgelt\n",
      "reading mushroom.dat ... [119 item(s), 8124 transaction(s)] done [0.02s].\n",
      "filtering, sorting and recoding items ... [43 item(s)] done [0.00s].\n",
      "sorting and reducing transactions ... [1946/8124 transaction(s)] done [0.00s].\n",
      "building transaction tree ... [5285 node(s)] done [0.00s].\n",
      "checking subsets of size 1 2 3 4 5 6 7 8 9 10 done [0.04s].\n",
      "writing output2c.rules ... [53583 set(s)] done [0.02s].\n"
     ]
    }
   ],
   "source": [
    "!apriori -ts -s20 -Z mushroom.dat output2c.rules"
   ]
  },
  {
   "cell_type": "code",
   "execution_count": 17,
   "metadata": {},
   "outputs": [
    {
     "data": {
      "text/plain": [
       "Text(0, 0.5, 'Number of itemsets')"
      ]
     },
     "execution_count": 17,
     "metadata": {},
     "output_type": "execute_result"
    },
    {
     "data": {
      "image/png": "[encoded data removed]",
      "text/plain": [
       "<Figure size 720x504 with 1 Axes>"
      ]
     },
     "metadata": {
      "needs_background": "light"
     },
     "output_type": "display_data"
    }
   ],
   "source": [
    "# Running apriori with -ts command, 20% support threshold on this dataset I got the following \n",
    "# distribution plot of frequent set sizes\n",
    "frequent_item_sizes = [376, 1472, 3559, 6267, 8802, 10151, 9488, 7010, 4004, 1729, 546, 119, 16, \n",
    "                       1] # I directly copied these numbers from terminal\n",
    "plt.figure(figsize=(10,7))\n",
    "plt.bar(np.arange(2,16), frequent_item_sizes, color='green')\n",
    "plt.title('Distribution of frequent itemsets at 20 % support threshold')\n",
    "plt.xlabel('Subset size')\n",
    "plt.ylabel('Number of itemsets')\n",
    "# Normal Distribution\n",
    "# Highest subset size: 7"
   ]
  },
  {
   "cell_type": "code",
   "execution_count": 18,
   "metadata": {},
   "outputs": [],
   "source": [
    "# Conclusion:\n",
    "# Maximal subsetsize is inversely proportional to support threshold.\n",
    "# Shape of the distribution is unchanged at different thresholds. Maximal size of subset I obtained: 723735, 111786\n",
    "# 10151 at support thresholds 5%, 10%, 20% respectively."
   ]
  },
  {
   "cell_type": "code",
   "execution_count": 19,
   "metadata": {},
   "outputs": [
    {
     "name": "stderr",
     "output_type": "stream",
     "text": [
      "apriori - find frequent item sets with the apriori algorithm\n",
      "version 6.29 (2020.06.15)        (c) 1996-2020   Christian Borgelt\n",
      "reading T10I4D100K.dat ... [870 item(s), 100000 transaction(s)] done [0.11s].\n",
      "filtering, sorting and recoding items ... [867 item(s)] done [0.00s].\n",
      "sorting and reducing transactions ... [89135/100000 transaction(s)] done [0.04s].\n",
      "building transaction tree ... [112369 node(s)] done [0.03s].\n",
      "checking subsets of size 1 2 3 4 5 6 7 8 9 10 11 12 13 done [3.19s].\n",
      "filtering for closed item sets ... done [11.59s].\n",
      "writing output3a.rules ... [283397 set(s)] done [0.15s].\n"
     ]
    }
   ],
   "source": [
    "# Task 3\n",
    "\n",
    "# Closed frequent algorithm\n",
    "!apriori -tc -s0.01 T10I4D100K.dat output3a.rules"
   ]
  },
  {
   "cell_type": "code",
   "execution_count": 20,
   "metadata": {},
   "outputs": [
    {
     "name": "stderr",
     "output_type": "stream",
     "text": [
      "apriori - find frequent item sets with the apriori algorithm\n",
      "version 6.29 (2020.06.15)        (c) 1996-2020   Christian Borgelt\n",
      "reading T10I4D100K.dat ... [870 item(s), 100000 transaction(s)] done [0.11s].\n",
      "filtering, sorting and recoding items ... [867 item(s)] done [0.00s].\n",
      "sorting and reducing transactions ... [89135/100000 transaction(s)] done [0.04s].\n",
      "building transaction tree ... [112369 node(s)] done [0.03s].\n",
      "checking subsets of size 1 2 3 4 5 6 7 8 9 10 11 12 13 done [3.16s].\n",
      "filtering for maximal item sets ... done [5.51s].\n",
      "writing output3b.rules ... [127264 set(s)] done [0.10s].\n"
     ]
    }
   ],
   "source": [
    "# Maximal frequent algorithm\n",
    "!apriori -tm -s0.01 T10I4D100K.dat output3b.rules"
   ]
  },
  {
   "cell_type": "code",
   "execution_count": 21,
   "metadata": {},
   "outputs": [],
   "source": [
    "# I generated closed frequent itemsets from T10I4D100K.dat dataset.\n",
    "# It produced 283 397 number of sets at a 0.01 % support threshold.\n",
    "\n",
    "# The total number of produced maximal frequent sets was 127 264.\n",
    "# Subset sizes were ranging from 1 to 13.\n",
    "\n",
    "# Comparing these numbers with frequent itemsets obtained in Task 1 are much higher, lowest \n",
    "# itemsets were generated by the maximal algorithm."
   ]
  },
  {
   "cell_type": "code",
   "execution_count": 22,
   "metadata": {},
   "outputs": [
    {
     "name": "stderr",
     "output_type": "stream",
     "text": [
      "apriori - find frequent item sets with the apriori algorithm\n",
      "version 6.29 (2020.06.15)        (c) 1996-2020   Christian Borgelt\n",
      "reading mushroom.dat ... [119 item(s), 8124 transaction(s)] done [0.02s].\n",
      "filtering, sorting and recoding items ... [73 item(s)] done [0.00s].\n",
      "sorting and reducing transactions ... [7468/8124 transaction(s)] done [0.00s].\n",
      "building transaction tree ... [19672 node(s)] done [0.00s].\n",
      "checking subsets of size 1 2 3 4 5 6 7 8 9 10 11 12 13 14 15 16 17 done [54.04s].\n",
      "filtering for closed item sets ... done [0.34s].\n",
      "writing output3c.rules ... [12843 set(s)] done [0.12s].\n"
     ]
    }
   ],
   "source": [
    "!apriori -tc -s5 mushroom.dat output3c.rules"
   ]
  },
  {
   "cell_type": "code",
   "execution_count": 23,
   "metadata": {},
   "outputs": [
    {
     "name": "stderr",
     "output_type": "stream",
     "text": [
      "apriori - find frequent item sets with the apriori algorithm\n",
      "version 6.29 (2020.06.15)        (c) 1996-2020   Christian Borgelt\n",
      "reading mushroom.dat ... [119 item(s), 8124 transaction(s)] done [0.02s].\n",
      "filtering, sorting and recoding items ... [73 item(s)] done [0.00s].\n",
      "sorting and reducing transactions ... [7468/8124 transaction(s)] done [0.01s].\n",
      "building transaction tree ... [19672 node(s)] done [0.01s].\n",
      "checking subsets of size 1 2 3 4 5 6 7 8 9 10 11 12 13 14 15 16 17 done [53.74s].\n",
      "filtering for maximal item sets ... done [0.28s].\n",
      "writing output3d.rules ... [1442 set(s)] done [0.12s].\n"
     ]
    }
   ],
   "source": [
    "!apriori -tm -s5 mushroom.dat output3d.rules"
   ]
  },
  {
   "cell_type": "code",
   "execution_count": 24,
   "metadata": {},
   "outputs": [],
   "source": [
    "# I generated closed frequent itemsets from the mushroom.dat dataset.\n",
    "# It produced a total number of 12 843 itemsets at a 5 % support threshold.\n",
    "\n",
    "# The total number of produced maximal frequent itemset was 1 442.\n",
    "# Subset sizes were ranging from 1 to 17.\n",
    "\n",
    "# Comparing these numbers with frequent itemsets obtained in Task 2 are much higher, lowest \n",
    "# number of itemsets was generated by the maximal algorithm."
   ]
  },
  {
   "cell_type": "code",
   "execution_count": 25,
   "metadata": {},
   "outputs": [
    {
     "data": {
      "text/plain": [
       "Text(0, 0.5, 'Number of items')"
      ]
     },
     "execution_count": 25,
     "metadata": {},
     "output_type": "execute_result"
    },
    {
     "data": {
      "image/png": "[encoded data removed]",
      "text/plain": [
       "<Figure size 432x432 with 1 Axes>"
      ]
     },
     "metadata": {
      "needs_background": "light"
     },
     "output_type": "display_data"
    }
   ],
   "source": [
    "# T10I4D100K dataset\n",
    "plt.figure(figsize=(6,6))\n",
    "plt.bar(['Frequent', 'Closed', 'Maximal'], [411365, 283397, 127264])\n",
    "plt.ylabel('Number of items')"
   ]
  },
  {
   "cell_type": "code",
   "execution_count": 26,
   "metadata": {},
   "outputs": [
    {
     "data": {
      "text/plain": [
       "Text(0, 0.5, 'Number of items in log scale')"
      ]
     },
     "execution_count": 26,
     "metadata": {},
     "output_type": "execute_result"
    },
    {
     "data": {
      "image/png": "[encoded data removed]",
      "text/plain": [
       "<Figure size 432x432 with 1 Axes>"
      ]
     },
     "metadata": {
      "needs_background": "light"
     },
     "output_type": "display_data"
    }
   ],
   "source": [
    "# mushroom dataset\n",
    "fig, ax = plt.subplots(figsize=(6,6))\n",
    "ax.bar(['Frequent', 'Closed', 'Maximal'], [3755511, 12843, 1442])\n",
    "ax.set_yscale('log')\n",
    "ax.set_ylabel('Number of items in log scale')"
   ]
  },
  {
   "cell_type": "code",
   "execution_count": 27,
   "metadata": {},
   "outputs": [],
   "source": [
    "# There is a decreasing trend on both dataset (considering Frequent, Closed and Maximal itemsets in this order), \n",
    "# and a significant difference between the number of Frequent itemsets and the number of Closed/Maximal itemsets \n",
    "# on mushroom data.\n",
    "# The reason we got such relationship is that maximal itemsets are a subset of closed itemsets. Also, the maximal \n",
    "# itemset works as a boundary, anything below the maximal sets is not frequent itemsets (any superset of maximal \n",
    "# itemsets are not frequent).\n",
    "# In a similar way, Closed frequent itemsets are also a subset of frequent itemsets."
   ]
  },
  {
   "cell_type": "code",
   "execution_count": 28,
   "metadata": {},
   "outputs": [
    {
     "data": {
      "text/html": [
       "<div>\n",
       "<style scoped>\n",
       "    .dataframe tbody tr th:only-of-type {\n",
       "        vertical-align: middle;\n",
       "    }\n",
       "\n",
       "    .dataframe tbody tr th {\n",
       "        vertical-align: top;\n",
       "    }\n",
       "\n",
       "    .dataframe thead th {\n",
       "        text-align: right;\n",
       "    }\n",
       "</style>\n",
       "<table border=\"1\" class=\"dataframe\">\n",
       "  <thead>\n",
       "    <tr style=\"text-align: right;\">\n",
       "      <th></th>\n",
       "      <th>Opponent</th>\n",
       "      <th>Home/Away</th>\n",
       "      <th>Victory</th>\n",
       "    </tr>\n",
       "  </thead>\n",
       "  <tbody>\n",
       "    <tr>\n",
       "      <td>0</td>\n",
       "      <td>1</td>\n",
       "      <td>4</td>\n",
       "      <td>5.0</td>\n",
       "    </tr>\n",
       "    <tr>\n",
       "      <td>1</td>\n",
       "      <td>1</td>\n",
       "      <td>4</td>\n",
       "      <td>5.0</td>\n",
       "    </tr>\n",
       "    <tr>\n",
       "      <td>2</td>\n",
       "      <td>1</td>\n",
       "      <td>4</td>\n",
       "      <td>5.0</td>\n",
       "    </tr>\n",
       "    <tr>\n",
       "      <td>3</td>\n",
       "      <td>1</td>\n",
       "      <td>4</td>\n",
       "      <td>5.0</td>\n",
       "    </tr>\n",
       "    <tr>\n",
       "      <td>4</td>\n",
       "      <td>1</td>\n",
       "      <td>4</td>\n",
       "      <td>5.0</td>\n",
       "    </tr>\n",
       "    <tr>\n",
       "      <td>...</td>\n",
       "      <td>...</td>\n",
       "      <td>...</td>\n",
       "      <td>...</td>\n",
       "    </tr>\n",
       "    <tr>\n",
       "      <td>205</td>\n",
       "      <td>2</td>\n",
       "      <td>3</td>\n",
       "      <td>NaN</td>\n",
       "    </tr>\n",
       "    <tr>\n",
       "      <td>206</td>\n",
       "      <td>2</td>\n",
       "      <td>3</td>\n",
       "      <td>NaN</td>\n",
       "    </tr>\n",
       "    <tr>\n",
       "      <td>207</td>\n",
       "      <td>2</td>\n",
       "      <td>3</td>\n",
       "      <td>NaN</td>\n",
       "    </tr>\n",
       "    <tr>\n",
       "      <td>208</td>\n",
       "      <td>2</td>\n",
       "      <td>3</td>\n",
       "      <td>NaN</td>\n",
       "    </tr>\n",
       "    <tr>\n",
       "      <td>209</td>\n",
       "      <td>2</td>\n",
       "      <td>3</td>\n",
       "      <td>NaN</td>\n",
       "    </tr>\n",
       "  </tbody>\n",
       "</table>\n",
       "<p>210 rows × 3 columns</p>\n",
       "</div>"
      ],
      "text/plain": [
       "     Opponent  Home/Away  Victory\n",
       "0           1          4      5.0\n",
       "1           1          4      5.0\n",
       "2           1          4      5.0\n",
       "3           1          4      5.0\n",
       "4           1          4      5.0\n",
       "..        ...        ...      ...\n",
       "205         2          3      NaN\n",
       "206         2          3      NaN\n",
       "207         2          3      NaN\n",
       "208         2          3      NaN\n",
       "209         2          3      NaN\n",
       "\n",
       "[210 rows x 3 columns]"
      ]
     },
     "execution_count": 28,
     "metadata": {},
     "output_type": "execute_result"
    }
   ],
   "source": [
    "# PROBLEM 2\n",
    "\n",
    "teams = pd.read_table(\"Project_VK/Teams.dat\", sep=\"\\s+\", header=None)\n",
    "teams.columns = ['Opponent', 'Home/Away', 'Victory']\n",
    "teams"
   ]
  },
  {
   "cell_type": "code",
   "execution_count": 29,
   "metadata": {},
   "outputs": [
    {
     "name": "stdout",
     "output_type": "stream",
     "text": [
      "The probability of Team A winning against Team B is: 0.4\n",
      "The probability of Team A winning against Team C is: 0.45454545454545453\n"
     ]
    }
   ],
   "source": [
    "# Task 1\n",
    "# I selected the rows when Team A played with Team B and won that match. We get the result if we\n",
    "# divide this with the total number of matches played with Team B.\n",
    "Won_By_A_Against_Team_B = sum((teams['Opponent'] == 1) & (teams['Victory'] == 5.0)) / sum(teams['Opponent'] == 1)\n",
    "# I selected the rows when Team A played with Team C and won that match, divided this with the \n",
    "# total number of matches played with Team C.\n",
    "Won_By_A_Against_Team_C = sum((teams['Opponent'] == 2) & (teams['Victory'] == 5.0)) / sum(teams['Opponent'] == 2)\n",
    "\n",
    "print('The probability of Team A winning against Team B is:', Won_By_A_Against_Team_B)\n",
    "print('The probability of Team A winning against Team C is:', Won_By_A_Against_Team_C)\n",
    "# Team A has slightly higher probability of winning against Team C than Team B \n",
    "# (considering both Home and Away matches)."
   ]
  },
  {
   "cell_type": "code",
   "execution_count": 30,
   "metadata": {},
   "outputs": [
    {
     "name": "stdout",
     "output_type": "stream",
     "text": [
      "The probability of Team A winning against Team B at Home is: 0.7\n",
      "The probability of Team A winning against Team C at Home is: 0.6666666666666666\n"
     ]
    }
   ],
   "source": [
    "# Task 2\n",
    "# The logic was similar here.\n",
    "Won_By_A_Against_Team_B_at_Home = sum((teams['Opponent'] == 1) & (teams['Home/Away'] == 3) & (teams['Victory'] == 5.0)) / sum((teams['Opponent'] == 1) & (teams['Home/Away'] == 3))\n",
    "Won_By_A_Against_Team_C_at_Home = sum((teams['Opponent'] == 2) & (teams['Home/Away'] == 3) & (teams['Victory'] == 5.0)) / sum((teams['Opponent'] == 2) & (teams['Home/Away'] == 3))\n",
    "\n",
    "print('The probability of Team A winning against Team B at Home is:', Won_By_A_Against_Team_B_at_Home)\n",
    "print('The probability of Team A winning against Team C at Home is:', Won_By_A_Against_Team_C_at_Home)\n",
    "# Team A has higher probability of defeating Team B than Team C at Home. "
   ]
  },
  {
   "cell_type": "code",
   "execution_count": 31,
   "metadata": {},
   "outputs": [
    {
     "name": "stdout",
     "output_type": "stream",
     "text": [
      "The probability of Team A winning against Team B Away is: 0.36666666666666664\n",
      "The probability of Team A winning against Team C Away is: 0.2\n"
     ]
    }
   ],
   "source": [
    "# Task 3\n",
    "# The logic was similar here too.\n",
    "Won_By_A_Against_Team_B_Away = sum((teams['Opponent'] == 1) & (teams['Home/Away'] == 4) & (teams['Victory'] == 5.0)) / sum((teams['Opponent'] == 1) & (teams['Home/Away'] == 4))\n",
    "Won_By_A_Against_Team_C_Away = sum((teams['Opponent'] == 2) & (teams['Home/Away'] == 4) & (teams['Victory'] == 5.0)) / sum((teams['Opponent'] == 2) & (teams['Home/Away'] == 4))\n",
    "\n",
    "print('The probability of Team A winning against Team B Away is:', Won_By_A_Against_Team_B_Away)\n",
    "print('The probability of Team A winning against Team C Away is:', Won_By_A_Against_Team_C_Away)\n",
    "# Team A had higher probability of winning against Team B Away than Team C.\n",
    "\n",
    "# The results got in Task 2 and 3 are not consistent because Team B has better results at \n",
    "# Team A's home than C. On the other hand, Team B has worse results Away (from Team A's \n",
    "# perspective) than Team C.\n",
    "# Ther reason of incosistency is that they played different number of matches Home and Away."
   ]
  },
  {
   "cell_type": "code",
   "execution_count": null,
   "metadata": {},
   "outputs": [],
   "source": []
  }
 ],
 "metadata": {
  "kernelspec": {
   "display_name": "Python 3",
   "language": "python",
   "name": "python3"
  },
  "language_info": {
   "codemirror_mode": {
    "name": "ipython",
    "version": 3
   },
   "file_extension": ".py",
   "mimetype": "text/x-python",
   "name": "python",
   "nbconvert_exporter": "python",
   "pygments_lexer": "ipython3",
   "version": "3.7.4"
  }
 },
 "nbformat": 4,
 "nbformat_minor": 2
}
