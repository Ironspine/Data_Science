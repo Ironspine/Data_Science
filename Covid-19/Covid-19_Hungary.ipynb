{
 "cells": [
  {
   "cell_type": "code",
   "execution_count": 24,
   "metadata": {},
   "outputs": [],
   "source": [
    "import pandas as pd\n",
    "import numpy as np\n",
    "import matplotlib.pyplot as plt\n",
    "import seaborn as sns\n",
    "from datetime import datetime\n",
    "\n",
    "covid19 = pd.read_csv('covid-19-all.csv')"
   ]
  },
  {
   "cell_type": "code",
   "execution_count": 25,
   "metadata": {},
   "outputs": [],
   "source": [
    "covid19['Date'] = pd.to_datetime(covid19['Date'])\n",
    "covid19['daymonthyear'] = covid19['Date'].dt.strftime('%d-%m-%Y')\n",
    "covid19['day'] = covid19['Date'].dt.day\n",
    "covid19['month'] = covid19['Date'].dt.month\n",
    "covid19['daymonth'] = covid19['Date'].dt.strftime('%d-%m')"
   ]
  },
  {
   "cell_type": "code",
   "execution_count": 26,
   "metadata": {
    "scrolled": true
   },
   "outputs": [
    {
     "name": "stdout",
     "output_type": "stream",
     "text": [
      "<class 'pandas.core.frame.DataFrame'>\n",
      "RangeIndex: 101768 entries, 0 to 101767\n",
      "Data columns (total 12 columns):\n",
      "Country/Region    101768 non-null object\n",
      "Province/State    93034 non-null object\n",
      "Latitude          101767 non-null float64\n",
      "Longitude         101767 non-null float64\n",
      "Confirmed         101749 non-null float64\n",
      "Recovered         101380 non-null float64\n",
      "Deaths            101327 non-null float64\n",
      "Date              101768 non-null datetime64[ns]\n",
      "daymonthyear      101768 non-null object\n",
      "day               101768 non-null int64\n",
      "month             101768 non-null int64\n",
      "daymonth          101768 non-null object\n",
      "dtypes: datetime64[ns](1), float64(5), int64(2), object(4)\n",
      "memory usage: 9.3+ MB\n"
     ]
    }
   ],
   "source": [
    "covid19.info()"
   ]
  },
  {
   "cell_type": "code",
   "execution_count": 27,
   "metadata": {},
   "outputs": [
    {
     "data": {
      "text/html": [
       "<div>\n",
       "<style scoped>\n",
       "    .dataframe tbody tr th:only-of-type {\n",
       "        vertical-align: middle;\n",
       "    }\n",
       "\n",
       "    .dataframe tbody tr th {\n",
       "        vertical-align: top;\n",
       "    }\n",
       "\n",
       "    .dataframe thead th {\n",
       "        text-align: right;\n",
       "    }\n",
       "</style>\n",
       "<table border=\"1\" class=\"dataframe\">\n",
       "  <thead>\n",
       "    <tr style=\"text-align: right;\">\n",
       "      <th></th>\n",
       "      <th>Country/Region</th>\n",
       "      <th>Province/State</th>\n",
       "      <th>Latitude</th>\n",
       "      <th>Longitude</th>\n",
       "      <th>Confirmed</th>\n",
       "      <th>Recovered</th>\n",
       "      <th>Deaths</th>\n",
       "      <th>Date</th>\n",
       "      <th>daymonthyear</th>\n",
       "      <th>day</th>\n",
       "      <th>month</th>\n",
       "      <th>daymonth</th>\n",
       "    </tr>\n",
       "  </thead>\n",
       "  <tbody>\n",
       "    <tr>\n",
       "      <td>3336</td>\n",
       "      <td>Hungary</td>\n",
       "      <td>NaN</td>\n",
       "      <td>47.1625</td>\n",
       "      <td>19.5033</td>\n",
       "      <td>2.0</td>\n",
       "      <td>0.0</td>\n",
       "      <td>0.0</td>\n",
       "      <td>2020-03-04</td>\n",
       "      <td>04-03-2020</td>\n",
       "      <td>4</td>\n",
       "      <td>3</td>\n",
       "      <td>04-03</td>\n",
       "    </tr>\n",
       "    <tr>\n",
       "      <td>3503</td>\n",
       "      <td>Hungary</td>\n",
       "      <td>NaN</td>\n",
       "      <td>47.1625</td>\n",
       "      <td>19.5033</td>\n",
       "      <td>2.0</td>\n",
       "      <td>0.0</td>\n",
       "      <td>0.0</td>\n",
       "      <td>2020-03-05</td>\n",
       "      <td>05-03-2020</td>\n",
       "      <td>5</td>\n",
       "      <td>3</td>\n",
       "      <td>05-03</td>\n",
       "    </tr>\n",
       "    <tr>\n",
       "      <td>3688</td>\n",
       "      <td>Hungary</td>\n",
       "      <td>NaN</td>\n",
       "      <td>47.1625</td>\n",
       "      <td>19.5033</td>\n",
       "      <td>2.0</td>\n",
       "      <td>0.0</td>\n",
       "      <td>0.0</td>\n",
       "      <td>2020-03-06</td>\n",
       "      <td>06-03-2020</td>\n",
       "      <td>6</td>\n",
       "      <td>3</td>\n",
       "      <td>06-03</td>\n",
       "    </tr>\n",
       "    <tr>\n",
       "      <td>3877</td>\n",
       "      <td>Hungary</td>\n",
       "      <td>NaN</td>\n",
       "      <td>47.1625</td>\n",
       "      <td>19.5033</td>\n",
       "      <td>4.0</td>\n",
       "      <td>0.0</td>\n",
       "      <td>0.0</td>\n",
       "      <td>2020-03-07</td>\n",
       "      <td>07-03-2020</td>\n",
       "      <td>7</td>\n",
       "      <td>3</td>\n",
       "      <td>07-03</td>\n",
       "    </tr>\n",
       "    <tr>\n",
       "      <td>4097</td>\n",
       "      <td>Hungary</td>\n",
       "      <td>NaN</td>\n",
       "      <td>47.1625</td>\n",
       "      <td>19.5033</td>\n",
       "      <td>7.0</td>\n",
       "      <td>0.0</td>\n",
       "      <td>0.0</td>\n",
       "      <td>2020-03-08</td>\n",
       "      <td>08-03-2020</td>\n",
       "      <td>8</td>\n",
       "      <td>3</td>\n",
       "      <td>08-03</td>\n",
       "    </tr>\n",
       "  </tbody>\n",
       "</table>\n",
       "</div>"
      ],
      "text/plain": [
       "     Country/Region Province/State  Latitude  Longitude  Confirmed  Recovered  \\\n",
       "3336        Hungary            NaN   47.1625    19.5033        2.0        0.0   \n",
       "3503        Hungary            NaN   47.1625    19.5033        2.0        0.0   \n",
       "3688        Hungary            NaN   47.1625    19.5033        2.0        0.0   \n",
       "3877        Hungary            NaN   47.1625    19.5033        4.0        0.0   \n",
       "4097        Hungary            NaN   47.1625    19.5033        7.0        0.0   \n",
       "\n",
       "      Deaths       Date daymonthyear  day  month daymonth  \n",
       "3336     0.0 2020-03-04   04-03-2020    4      3    04-03  \n",
       "3503     0.0 2020-03-05   05-03-2020    5      3    05-03  \n",
       "3688     0.0 2020-03-06   06-03-2020    6      3    06-03  \n",
       "3877     0.0 2020-03-07   07-03-2020    7      3    07-03  \n",
       "4097     0.0 2020-03-08   08-03-2020    8      3    08-03  "
      ]
     },
     "execution_count": 27,
     "metadata": {},
     "output_type": "execute_result"
    }
   ],
   "source": [
    "hungary = covid19.loc[covid19['Country/Region'] == 'Hungary']\n",
    "hungary.head()"
   ]
  },
  {
   "cell_type": "code",
   "execution_count": 28,
   "metadata": {},
   "outputs": [
    {
     "data": {
      "text/plain": [
       "([<matplotlib.axis.XTick at 0x105a3a88>,\n",
       "  <matplotlib.axis.XTick at 0x105a3a48>,\n",
       "  <matplotlib.axis.XTick at 0x105a30c8>,\n",
       "  <matplotlib.axis.XTick at 0x106d5cc8>,\n",
       "  <matplotlib.axis.XTick at 0x106d8648>,\n",
       "  <matplotlib.axis.XTick at 0x106d8e88>],\n",
       " [Text(0, 0, '2020-03-04'),\n",
       "  Text(0, 0, '2020-03-13'),\n",
       "  Text(0, 0, '2020-03-22'),\n",
       "  Text(0, 0, '2020-03-31'),\n",
       "  Text(0, 0, '2020-04-9'),\n",
       "  Text(0, 0, '2020-04-18')])"
      ]
     },
     "execution_count": 28,
     "metadata": {},
     "output_type": "execute_result"
    },
    {
     "data": {
      "image/png": "[encoded data removed]",
      "text/plain": [
       "<Figure size 864x576 with 1 Axes>"
      ]
     },
     "metadata": {
      "needs_background": "light"
     },
     "output_type": "display_data"
    }
   ],
   "source": [
    "# Plot of infections in Hungary\n",
    "\n",
    "plt.figure(figsize = (12,8))\n",
    "sns.barplot(hungary['Date'], hungary['Confirmed'])\n",
    "plt.title('Number of confirmed coronavirus cases in Hungary', fontsize = 20)\n",
    "plt.xticks(np.arange(1,50,9), ['2020-03-04','2020-03-13', '2020-03-22','2020-03-31', '2020-04-9','2020-04-18'])\n",
    "#plt.savefig('hun_cases.jpg')"
   ]
  },
  {
   "cell_type": "code",
   "execution_count": 29,
   "metadata": {},
   "outputs": [
    {
     "data": {
      "text/plain": [
       "([<matplotlib.axis.XTick at 0x1162b588>,\n",
       "  <matplotlib.axis.XTick at 0x1162b708>,\n",
       "  <matplotlib.axis.XTick at 0x116af988>,\n",
       "  <matplotlib.axis.XTick at 0x1197d1c8>,\n",
       "  <matplotlib.axis.XTick at 0x1197dac8>,\n",
       "  <matplotlib.axis.XTick at 0x11983348>],\n",
       " [Text(0, 0, '2020-03-04'),\n",
       "  Text(0, 0, '2020-03-13'),\n",
       "  Text(0, 0, '2020-03-22'),\n",
       "  Text(0, 0, '2020-03-31'),\n",
       "  Text(0, 0, '2020-04-9'),\n",
       "  Text(0, 0, '2020-04-18')])"
      ]
     },
     "execution_count": 29,
     "metadata": {},
     "output_type": "execute_result"
    },
    {
     "data": {
      "image/png": "[encoded data removed]",
      "text/plain": [
       "<Figure size 864x576 with 1 Axes>"
      ]
     },
     "metadata": {
      "needs_background": "light"
     },
     "output_type": "display_data"
    }
   ],
   "source": [
    "# Plot of death cases in Hungary\n",
    "\n",
    "plt.figure(figsize = (12,8))\n",
    "sns.barplot(hungary['Date'], hungary['Deaths'], palette = 'Blues')\n",
    "plt.title('Number of deaths in Hungary', fontsize = 20)\n",
    "plt.xticks(np.arange(1,50,9), ['2020-03-04','2020-03-13', '2020-03-22','2020-03-31', '2020-04-9','2020-04-18'])"
   ]
  },
  {
   "cell_type": "code",
   "execution_count": 30,
   "metadata": {},
   "outputs": [
    {
     "data": {
      "text/plain": [
       "([<matplotlib.axis.XTick at 0x1162b888>,\n",
       "  <matplotlib.axis.XTick at 0x11c28688>,\n",
       "  <matplotlib.axis.XTick at 0x11c2cc48>,\n",
       "  <matplotlib.axis.XTick at 0x11b25288>,\n",
       "  <matplotlib.axis.XTick at 0x11b25a08>,\n",
       "  <matplotlib.axis.XTick at 0x11b2b048>],\n",
       " [Text(0, 0, '2020-03-04'),\n",
       "  Text(0, 0, '2020-03-13'),\n",
       "  Text(0, 0, '2020-03-22'),\n",
       "  Text(0, 0, '2020-03-31'),\n",
       "  Text(0, 0, '2020-04-9'),\n",
       "  Text(0, 0, '2020-04-18')])"
      ]
     },
     "execution_count": 30,
     "metadata": {},
     "output_type": "execute_result"
    },
    {
     "data": {
      "image/png": "[encoded data removed]",
      "text/plain": [
       "<Figure size 864x576 with 1 Axes>"
      ]
     },
     "metadata": {
      "needs_background": "light"
     },
     "output_type": "display_data"
    }
   ],
   "source": [
    "# Plot of recovered cases in Hngary\n",
    "\n",
    "plt.figure(figsize = (12,8))\n",
    "sns.barplot(hungary['Date'], hungary['Recovered'], palette = 'coolwarm')\n",
    "plt.title('Number of recoveries in Hungary', fontsize = 20)\n",
    "plt.xticks(np.arange(1,50,9), ['2020-03-04','2020-03-13', '2020-03-22','2020-03-31', '2020-04-9','2020-04-18'])"
   ]
  },
  {
   "cell_type": "code",
   "execution_count": 31,
   "metadata": {},
   "outputs": [],
   "source": [
    "# Creating a polynomial regression\n",
    "\n",
    "from sklearn.linear_model import LinearRegression\n",
    "from sklearn.preprocessing import PolynomialFeatures"
   ]
  },
  {
   "cell_type": "code",
   "execution_count": 32,
   "metadata": {},
   "outputs": [
    {
     "name": "stderr",
     "output_type": "stream",
     "text": [
      "C:\\Users\\User\\Anaconda3\\lib\\site-packages\\ipykernel_launcher.py:1: SettingWithCopyWarning: \n",
      "A value is trying to be set on a copy of a slice from a DataFrame.\n",
      "Try using .loc[row_indexer,col_indexer] = value instead\n",
      "\n",
      "See the caveats in the documentation: http://pandas.pydata.org/pandas-docs/stable/user_guide/indexing.html#returning-a-view-versus-a-copy\n",
      "  \"\"\"Entry point for launching an IPython kernel.\n"
     ]
    },
    {
     "data": {
      "text/html": [
       "<div>\n",
       "<style scoped>\n",
       "    .dataframe tbody tr th:only-of-type {\n",
       "        vertical-align: middle;\n",
       "    }\n",
       "\n",
       "    .dataframe tbody tr th {\n",
       "        vertical-align: top;\n",
       "    }\n",
       "\n",
       "    .dataframe thead th {\n",
       "        text-align: right;\n",
       "    }\n",
       "</style>\n",
       "<table border=\"1\" class=\"dataframe\">\n",
       "  <thead>\n",
       "    <tr style=\"text-align: right;\">\n",
       "      <th></th>\n",
       "      <th>Country/Region</th>\n",
       "      <th>Province/State</th>\n",
       "      <th>Latitude</th>\n",
       "      <th>Longitude</th>\n",
       "      <th>Confirmed</th>\n",
       "      <th>Recovered</th>\n",
       "      <th>Deaths</th>\n",
       "      <th>Date</th>\n",
       "      <th>daymonthyear</th>\n",
       "      <th>day</th>\n",
       "      <th>month</th>\n",
       "      <th>daymonth</th>\n",
       "      <th>Num</th>\n",
       "    </tr>\n",
       "  </thead>\n",
       "  <tbody>\n",
       "    <tr>\n",
       "      <td>89355</td>\n",
       "      <td>Hungary</td>\n",
       "      <td>NaN</td>\n",
       "      <td>47.1625</td>\n",
       "      <td>19.5033</td>\n",
       "      <td>1763.0</td>\n",
       "      <td>207.0</td>\n",
       "      <td>156.0</td>\n",
       "      <td>2020-04-17</td>\n",
       "      <td>17-04-2020</td>\n",
       "      <td>17</td>\n",
       "      <td>4</td>\n",
       "      <td>17-04</td>\n",
       "      <td>45</td>\n",
       "    </tr>\n",
       "    <tr>\n",
       "      <td>92408</td>\n",
       "      <td>Hungary</td>\n",
       "      <td>NaN</td>\n",
       "      <td>47.1625</td>\n",
       "      <td>19.5033</td>\n",
       "      <td>1834.0</td>\n",
       "      <td>231.0</td>\n",
       "      <td>172.0</td>\n",
       "      <td>2020-04-18</td>\n",
       "      <td>18-04-2020</td>\n",
       "      <td>18</td>\n",
       "      <td>4</td>\n",
       "      <td>18-04</td>\n",
       "      <td>46</td>\n",
       "    </tr>\n",
       "    <tr>\n",
       "      <td>95480</td>\n",
       "      <td>Hungary</td>\n",
       "      <td>NaN</td>\n",
       "      <td>47.1625</td>\n",
       "      <td>19.5033</td>\n",
       "      <td>1916.0</td>\n",
       "      <td>250.0</td>\n",
       "      <td>189.0</td>\n",
       "      <td>2020-04-19</td>\n",
       "      <td>19-04-2020</td>\n",
       "      <td>19</td>\n",
       "      <td>4</td>\n",
       "      <td>19-04</td>\n",
       "      <td>47</td>\n",
       "    </tr>\n",
       "    <tr>\n",
       "      <td>98561</td>\n",
       "      <td>Hungary</td>\n",
       "      <td>NaN</td>\n",
       "      <td>47.1625</td>\n",
       "      <td>19.5033</td>\n",
       "      <td>1984.0</td>\n",
       "      <td>267.0</td>\n",
       "      <td>199.0</td>\n",
       "      <td>2020-04-20</td>\n",
       "      <td>20-04-2020</td>\n",
       "      <td>20</td>\n",
       "      <td>4</td>\n",
       "      <td>20-04</td>\n",
       "      <td>48</td>\n",
       "    </tr>\n",
       "    <tr>\n",
       "      <td>101660</td>\n",
       "      <td>Hungary</td>\n",
       "      <td>NaN</td>\n",
       "      <td>47.1625</td>\n",
       "      <td>19.5033</td>\n",
       "      <td>2098.0</td>\n",
       "      <td>287.0</td>\n",
       "      <td>213.0</td>\n",
       "      <td>2020-04-21</td>\n",
       "      <td>21-04-2020</td>\n",
       "      <td>21</td>\n",
       "      <td>4</td>\n",
       "      <td>21-04</td>\n",
       "      <td>49</td>\n",
       "    </tr>\n",
       "  </tbody>\n",
       "</table>\n",
       "</div>"
      ],
      "text/plain": [
       "       Country/Region Province/State  Latitude  Longitude  Confirmed  \\\n",
       "89355         Hungary            NaN   47.1625    19.5033     1763.0   \n",
       "92408         Hungary            NaN   47.1625    19.5033     1834.0   \n",
       "95480         Hungary            NaN   47.1625    19.5033     1916.0   \n",
       "98561         Hungary            NaN   47.1625    19.5033     1984.0   \n",
       "101660        Hungary            NaN   47.1625    19.5033     2098.0   \n",
       "\n",
       "        Recovered  Deaths       Date daymonthyear  day  month daymonth  Num  \n",
       "89355       207.0   156.0 2020-04-17   17-04-2020   17      4    17-04   45  \n",
       "92408       231.0   172.0 2020-04-18   18-04-2020   18      4    18-04   46  \n",
       "95480       250.0   189.0 2020-04-19   19-04-2020   19      4    19-04   47  \n",
       "98561       267.0   199.0 2020-04-20   20-04-2020   20      4    20-04   48  \n",
       "101660      287.0   213.0 2020-04-21   21-04-2020   21      4    21-04   49  "
      ]
     },
     "execution_count": 32,
     "metadata": {},
     "output_type": "execute_result"
    }
   ],
   "source": [
    "hungary['Num'] = np.arange(1,50)\n",
    "hungary.tail()"
   ]
  },
  {
   "cell_type": "code",
   "execution_count": 33,
   "metadata": {},
   "outputs": [
    {
     "data": {
      "image/png": "[encoded data removed]",
      "text/plain": [
       "<Figure size 792x576 with 1 Axes>"
      ]
     },
     "metadata": {
      "needs_background": "light"
     },
     "output_type": "display_data"
    }
   ],
   "source": [
    "X = hungary.iloc[:,12:13]\n",
    "y = hungary['Confirmed']\n",
    "poly = PolynomialFeatures(degree = 5)\n",
    "X_poly = poly.fit_transform(X)\n",
    "poly = LinearRegression()\n",
    "poly.fit(X_poly, y)\n",
    "prediction = poly.predict(X_poly)\n",
    "\n",
    "plt.figure(figsize=(11,8))\n",
    "plt.scatter(X, y, color = 'red', label = 'Real Data')\n",
    "plt.plot(X, prediction, color = 'blue', linewidth = 2, label = 'Fitted function')\n",
    "plt.title('Coronavirus in Hungary', fontsize = 15)\n",
    "plt.xlabel('Days')\n",
    "plt.ylabel('Cases')\n",
    "plt.xticks(np.arange(1,50,9),['2020-03-04','2020-03-13', '2020-03-22','2020-03-31', '2020-04-9','2020-04-18'])\n",
    "plt.legend()\n",
    "plt.show()"
   ]
  },
  {
   "cell_type": "code",
   "execution_count": null,
   "metadata": {},
   "outputs": [],
   "source": []
  }
 ],
 "metadata": {
  "kernelspec": {
   "display_name": "Python 3",
   "language": "python",
   "name": "python3"
  },
  "language_info": {
   "codemirror_mode": {
    "name": "ipython",
    "version": 3
   },
   "file_extension": ".py",
   "mimetype": "text/x-python",
   "name": "python",
   "nbconvert_exporter": "python",
   "pygments_lexer": "ipython3",
   "version": "3.7.4"
  }
 },
 "nbformat": 4,
 "nbformat_minor": 2
}
