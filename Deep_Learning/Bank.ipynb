{
 "cells": [
  {
   "cell_type": "code",
   "execution_count": 1,
   "metadata": {},
   "outputs": [],
   "source": [
    "import numpy as np\n",
    "import pandas as pd\n",
    "import matplotlib.pyplot as plt"
   ]
  },
  {
   "cell_type": "code",
   "execution_count": 2,
   "metadata": {},
   "outputs": [],
   "source": [
    "data = pd.read_csv('Bank.csv')"
   ]
  },
  {
   "cell_type": "code",
   "execution_count": 3,
   "metadata": {},
   "outputs": [],
   "source": [
    "data.drop(data[['day', 'month' ]],axis = 1, inplace = True)"
   ]
  },
  {
   "cell_type": "code",
   "execution_count": 4,
   "metadata": {},
   "outputs": [],
   "source": [
    "data = pd.get_dummies(data, drop_first = True)"
   ]
  },
  {
   "cell_type": "code",
   "execution_count": 5,
   "metadata": {},
   "outputs": [
    {
     "data": {
      "text/plain": [
       "Index(['age', 'balance', 'duration', 'campaign', 'pdays', 'previous',\n",
       "       'job_blue-collar', 'job_entrepreneur', 'job_housemaid',\n",
       "       'job_management', 'job_retired', 'job_self-employed', 'job_services',\n",
       "       'job_student', 'job_technician', 'job_unemployed', 'job_unknown',\n",
       "       'marital_married', 'marital_single', 'education_secondary',\n",
       "       'education_tertiary', 'education_unknown', 'default_yes', 'housing_yes',\n",
       "       'loan_yes', 'contact_telephone', 'contact_unknown', 'poutcome_other',\n",
       "       'poutcome_success', 'poutcome_unknown', 'y_yes'],\n",
       "      dtype='object')"
      ]
     },
     "execution_count": 5,
     "metadata": {},
     "output_type": "execute_result"
    }
   ],
   "source": [
    "data.columns"
   ]
  },
  {
   "cell_type": "code",
   "execution_count": 6,
   "metadata": {},
   "outputs": [],
   "source": [
    "# Self-organizing map\n",
    "\n",
    "X = data.iloc[:, : -1].values\n",
    "y = data.iloc[:, -1].values"
   ]
  },
  {
   "cell_type": "code",
   "execution_count": 7,
   "metadata": {},
   "outputs": [],
   "source": [
    "from sklearn.preprocessing import MinMaxScaler\n",
    "\n",
    "sc = MinMaxScaler(feature_range = (0, 1))\n",
    "X = sc.fit_transform(X)"
   ]
  },
  {
   "cell_type": "code",
   "execution_count": 8,
   "metadata": {},
   "outputs": [],
   "source": [
    "from minisom import MiniSom\n",
    "\n",
    "som = MiniSom(x = 10, y = 10, input_len = 30, sigma = 1.0, learning_rate = 0.5)\n",
    "som.random_weights_init(X)\n",
    "som.train_random(data = X, num_iteration = 100)"
   ]
  },
  {
   "cell_type": "code",
   "execution_count": 9,
   "metadata": {},
   "outputs": [
    {
     "data": {
      "image/png": "[encoded data removed]",
      "text/plain": [
       "<Figure size 432x288 with 2 Axes>"
      ]
     },
     "metadata": {
      "needs_background": "light"
     },
     "output_type": "display_data"
    }
   ],
   "source": [
    "#from pylab import bone, pcolor, colorbar, plot, show\n",
    "\n",
    "plt.bone()\n",
    "plt.pcolor(som.distance_map().T)\n",
    "plt.colorbar()\n",
    "markers = ['.', 's']\n",
    "colors = ['r', 'g']\n",
    "for i, x in enumerate(X):\n",
    "    w = som.winner(x)\n",
    "    plt.plot(w[0] + 0.5,\n",
    "         w[1] + 0.5,\n",
    "         markers[y[i]],\n",
    "         markeredgecolor = colors[y[i]],\n",
    "         markerfacecolor = 'None',\n",
    "         markersize = 10,\n",
    "         markeredgewidth = 2)"
   ]
  },
  {
   "cell_type": "code",
   "execution_count": 10,
   "metadata": {},
   "outputs": [],
   "source": [
    "mappings = som.win_map(X)\n",
    "frauds = np.concatenate((mappings[(6,5)], mappings[(6,5)], mappings[(8,8)]), axis = 0)\n",
    "frauds = sc.inverse_transform(frauds)"
   ]
  },
  {
   "cell_type": "code",
   "execution_count": 11,
   "metadata": {},
   "outputs": [
    {
     "data": {
      "text/html": [
       "<div>\n",
       "<style scoped>\n",
       "    .dataframe tbody tr th:only-of-type {\n",
       "        vertical-align: middle;\n",
       "    }\n",
       "\n",
       "    .dataframe tbody tr th {\n",
       "        vertical-align: top;\n",
       "    }\n",
       "\n",
       "    .dataframe thead th {\n",
       "        text-align: right;\n",
       "    }\n",
       "</style>\n",
       "<table border=\"1\" class=\"dataframe\">\n",
       "  <thead>\n",
       "    <tr style=\"text-align: right;\">\n",
       "      <th></th>\n",
       "      <th>age</th>\n",
       "      <th>balance</th>\n",
       "      <th>duration</th>\n",
       "      <th>campaign</th>\n",
       "      <th>pdays</th>\n",
       "      <th>previous</th>\n",
       "      <th>job_blue-collar</th>\n",
       "      <th>job_entrepreneur</th>\n",
       "      <th>job_housemaid</th>\n",
       "      <th>job_management</th>\n",
       "      <th>...</th>\n",
       "      <th>education_tertiary</th>\n",
       "      <th>education_unknown</th>\n",
       "      <th>default_yes</th>\n",
       "      <th>housing_yes</th>\n",
       "      <th>loan_yes</th>\n",
       "      <th>contact_telephone</th>\n",
       "      <th>contact_unknown</th>\n",
       "      <th>poutcome_other</th>\n",
       "      <th>poutcome_success</th>\n",
       "      <th>poutcome_unknown</th>\n",
       "    </tr>\n",
       "  </thead>\n",
       "  <tbody>\n",
       "    <tr>\n",
       "      <td>0</td>\n",
       "      <td>56</td>\n",
       "      <td>1906</td>\n",
       "      <td>45</td>\n",
       "      <td>9</td>\n",
       "      <td>-1</td>\n",
       "      <td>0</td>\n",
       "      <td>0</td>\n",
       "      <td>0</td>\n",
       "      <td>0</td>\n",
       "      <td>0</td>\n",
       "      <td>...</td>\n",
       "      <td>0</td>\n",
       "      <td>0</td>\n",
       "      <td>0</td>\n",
       "      <td>0</td>\n",
       "      <td>1</td>\n",
       "      <td>0</td>\n",
       "      <td>1</td>\n",
       "      <td>0</td>\n",
       "      <td>0</td>\n",
       "      <td>1</td>\n",
       "    </tr>\n",
       "    <tr>\n",
       "      <td>1</td>\n",
       "      <td>57</td>\n",
       "      <td>5799</td>\n",
       "      <td>96</td>\n",
       "      <td>1</td>\n",
       "      <td>-1</td>\n",
       "      <td>0</td>\n",
       "      <td>0</td>\n",
       "      <td>0</td>\n",
       "      <td>0</td>\n",
       "      <td>0</td>\n",
       "      <td>...</td>\n",
       "      <td>0</td>\n",
       "      <td>0</td>\n",
       "      <td>0</td>\n",
       "      <td>0</td>\n",
       "      <td>0</td>\n",
       "      <td>0</td>\n",
       "      <td>1</td>\n",
       "      <td>0</td>\n",
       "      <td>0</td>\n",
       "      <td>1</td>\n",
       "    </tr>\n",
       "    <tr>\n",
       "      <td>2</td>\n",
       "      <td>59</td>\n",
       "      <td>1033</td>\n",
       "      <td>1199</td>\n",
       "      <td>1</td>\n",
       "      <td>-1</td>\n",
       "      <td>0</td>\n",
       "      <td>0</td>\n",
       "      <td>0</td>\n",
       "      <td>0</td>\n",
       "      <td>0</td>\n",
       "      <td>...</td>\n",
       "      <td>0</td>\n",
       "      <td>1</td>\n",
       "      <td>0</td>\n",
       "      <td>0</td>\n",
       "      <td>0</td>\n",
       "      <td>0</td>\n",
       "      <td>1</td>\n",
       "      <td>0</td>\n",
       "      <td>0</td>\n",
       "      <td>1</td>\n",
       "    </tr>\n",
       "    <tr>\n",
       "      <td>3</td>\n",
       "      <td>55</td>\n",
       "      <td>8894</td>\n",
       "      <td>262</td>\n",
       "      <td>1</td>\n",
       "      <td>-1</td>\n",
       "      <td>0</td>\n",
       "      <td>0</td>\n",
       "      <td>0</td>\n",
       "      <td>0</td>\n",
       "      <td>0</td>\n",
       "      <td>...</td>\n",
       "      <td>0</td>\n",
       "      <td>0</td>\n",
       "      <td>0</td>\n",
       "      <td>0</td>\n",
       "      <td>0</td>\n",
       "      <td>0</td>\n",
       "      <td>1</td>\n",
       "      <td>0</td>\n",
       "      <td>0</td>\n",
       "      <td>1</td>\n",
       "    </tr>\n",
       "    <tr>\n",
       "      <td>4</td>\n",
       "      <td>54</td>\n",
       "      <td>3670</td>\n",
       "      <td>67</td>\n",
       "      <td>3</td>\n",
       "      <td>-1</td>\n",
       "      <td>0</td>\n",
       "      <td>0</td>\n",
       "      <td>0</td>\n",
       "      <td>0</td>\n",
       "      <td>0</td>\n",
       "      <td>...</td>\n",
       "      <td>0</td>\n",
       "      <td>0</td>\n",
       "      <td>0</td>\n",
       "      <td>0</td>\n",
       "      <td>0</td>\n",
       "      <td>0</td>\n",
       "      <td>1</td>\n",
       "      <td>0</td>\n",
       "      <td>0</td>\n",
       "      <td>1</td>\n",
       "    </tr>\n",
       "  </tbody>\n",
       "</table>\n",
       "<p>5 rows × 30 columns</p>\n",
       "</div>"
      ],
      "text/plain": [
       "   age  balance  duration  campaign  pdays  previous  job_blue-collar  \\\n",
       "0   56     1906        45         9     -1         0                0   \n",
       "1   57     5799        96         1     -1         0                0   \n",
       "2   59     1033      1199         1     -1         0                0   \n",
       "3   55     8894       262         1     -1         0                0   \n",
       "4   54     3670        67         3     -1         0                0   \n",
       "\n",
       "   job_entrepreneur  job_housemaid  job_management  ...  education_tertiary  \\\n",
       "0                 0              0               0  ...                   0   \n",
       "1                 0              0               0  ...                   0   \n",
       "2                 0              0               0  ...                   0   \n",
       "3                 0              0               0  ...                   0   \n",
       "4                 0              0               0  ...                   0   \n",
       "\n",
       "   education_unknown  default_yes  housing_yes  loan_yes  contact_telephone  \\\n",
       "0                  0            0            0         1                  0   \n",
       "1                  0            0            0         0                  0   \n",
       "2                  1            0            0         0                  0   \n",
       "3                  0            0            0         0                  0   \n",
       "4                  0            0            0         0                  0   \n",
       "\n",
       "   contact_unknown  poutcome_other  poutcome_success  poutcome_unknown  \n",
       "0                1               0                 0                 1  \n",
       "1                1               0                 0                 1  \n",
       "2                1               0                 0                 1  \n",
       "3                1               0                 0                 1  \n",
       "4                1               0                 0                 1  \n",
       "\n",
       "[5 rows x 30 columns]"
      ]
     },
     "execution_count": 11,
     "metadata": {},
     "output_type": "execute_result"
    }
   ],
   "source": [
    "fraud = pd.DataFrame(frauds, columns = ['age', 'balance', 'duration', 'campaign', 'pdays', 'previous',\n",
    "       'job_blue-collar', 'job_entrepreneur', 'job_housemaid',\n",
    "       'job_management', 'job_retired', 'job_self-employed', 'job_services',\n",
    "       'job_student', 'job_technician', 'job_unemployed', 'job_unknown',\n",
    "       'marital_married', 'marital_single', 'education_secondary',\n",
    "       'education_tertiary', 'education_unknown', 'default_yes', 'housing_yes',\n",
    "       'loan_yes', 'contact_telephone', 'contact_unknown', 'poutcome_other',\n",
    "       'poutcome_success', 'poutcome_unknown'])\n",
    "fraud = fraud.astype('int32')\n",
    "fraud.head()"
   ]
  },
  {
   "cell_type": "code",
   "execution_count": 12,
   "metadata": {},
   "outputs": [],
   "source": [
    "# Predecting outcome with a classification ANN\n",
    "\n",
    "X = data.iloc[:, : -1].values\n",
    "y = data.iloc[:, -1].values\n",
    "\n",
    "from sklearn.model_selection import train_test_split\n",
    "\n",
    "X_train, X_test, y_train, y_test = train_test_split(X, y, test_size = 0.33, random_state = 42)"
   ]
  },
  {
   "cell_type": "code",
   "execution_count": 13,
   "metadata": {},
   "outputs": [],
   "source": [
    "from sklearn.preprocessing import MinMaxScaler\n",
    "\n",
    "scaler = MinMaxScaler(feature_range = (0, 1))\n",
    "X_train = scaler.fit_transform(X_train)\n",
    "X_test = scaler.transform(X_test)"
   ]
  },
  {
   "cell_type": "code",
   "execution_count": 14,
   "metadata": {},
   "outputs": [
    {
     "name": "stderr",
     "output_type": "stream",
     "text": [
      "Using TensorFlow backend.\n"
     ]
    }
   ],
   "source": [
    "import tensorflow as tf\n",
    "from keras.models import Sequential\n",
    "from keras.layers import Dense, Dropout\n",
    "from keras.callbacks import EarlyStopping\n",
    "from tensorflow.keras.wrappers.scikit_learn import KerasClassifier\n",
    "from numpy.random import seed"
   ]
  },
  {
   "cell_type": "code",
   "execution_count": 15,
   "metadata": {},
   "outputs": [],
   "source": [
    "def my_model():\n",
    "    seed(42)\n",
    "    tf.random.set_seed(42)\n",
    "    \n",
    "    model = Sequential()\n",
    "    \n",
    "    model.add(Dense(units = 30, activation = 'relu'))\n",
    "    model.add(Dropout(0.25))\n",
    "    \n",
    "    model.add(Dense(units = 64, activation = 'relu'))\n",
    "    model.add(Dropout(0.25))\n",
    "    \n",
    "    model.add(Dense(units = 64, activation = 'relu'))\n",
    "    model.add(Dropout(0.25))\n",
    "    \n",
    "    model.add(Dense(units = 1, activation = 'sigmoid'))\n",
    "\n",
    "    model.compile(loss = 'binary_crossentropy', optimizer = 'adam', metrics = ['accuracy'])\n",
    "    return model\n",
    "es = EarlyStopping(monitor = 'val_loss', mode = 'min', patience = 10)\n",
    "model = my_model()"
   ]
  },
  {
   "cell_type": "code",
   "execution_count": 16,
   "metadata": {},
   "outputs": [
    {
     "name": "stdout",
     "output_type": "stream",
     "text": [
      "Train on 3029 samples, validate on 1492 samples\n",
      "Epoch 1/100\n",
      "3029/3029 [==============================] - 5s 2ms/step - loss: 0.4891 - accuracy: 0.7900 - val_loss: 0.3272 - val_accuracy: 0.8941\n",
      "Epoch 2/100\n",
      "3029/3029 [==============================] - 0s 157us/step - loss: 0.3648 - accuracy: 0.8802 - val_loss: 0.3138 - val_accuracy: 0.8941\n",
      "Epoch 3/100\n",
      "3029/3029 [==============================] - 1s 367us/step - loss: 0.3489 - accuracy: 0.8802 - val_loss: 0.3035 - val_accuracy: 0.8941\n",
      "Epoch 4/100\n",
      "3029/3029 [==============================] - 1s 272us/step - loss: 0.3335 - accuracy: 0.8802 - val_loss: 0.3018 - val_accuracy: 0.8941\n",
      "Epoch 5/100\n",
      "3029/3029 [==============================] - 0s 150us/step - loss: 0.3347 - accuracy: 0.8802 - val_loss: 0.2911 - val_accuracy: 0.8941\n",
      "Epoch 6/100\n",
      "3029/3029 [==============================] - 1s 180us/step - loss: 0.3262 - accuracy: 0.8802 - val_loss: 0.2863 - val_accuracy: 0.8941\n",
      "Epoch 7/100\n",
      "3029/3029 [==============================] - 0s 152us/step - loss: 0.3204 - accuracy: 0.8792 - val_loss: 0.2806 - val_accuracy: 0.8941\n",
      "Epoch 8/100\n",
      "3029/3029 [==============================] - 1s 166us/step - loss: 0.3146 - accuracy: 0.8808 - val_loss: 0.2762 - val_accuracy: 0.8948\n",
      "Epoch 9/100\n",
      "3029/3029 [==============================] - 0s 158us/step - loss: 0.3088 - accuracy: 0.8828 - val_loss: 0.2725 - val_accuracy: 0.8988\n",
      "Epoch 10/100\n",
      "3029/3029 [==============================] - 1s 173us/step - loss: 0.2973 - accuracy: 0.8828 - val_loss: 0.2683 - val_accuracy: 0.9001\n",
      "Epoch 11/100\n",
      "3029/3029 [==============================] - 1s 184us/step - loss: 0.2959 - accuracy: 0.8828 - val_loss: 0.2639 - val_accuracy: 0.8975\n",
      "Epoch 12/100\n",
      "3029/3029 [==============================] - 1s 173us/step - loss: 0.2846 - accuracy: 0.8907 - val_loss: 0.2603 - val_accuracy: 0.8961\n",
      "Epoch 13/100\n",
      "3029/3029 [==============================] - 1s 179us/step - loss: 0.2842 - accuracy: 0.8868 - val_loss: 0.2580 - val_accuracy: 0.8968\n",
      "Epoch 14/100\n",
      "3029/3029 [==============================] - 1s 221us/step - loss: 0.2795 - accuracy: 0.8953 - val_loss: 0.2614 - val_accuracy: 0.8995\n",
      "Epoch 15/100\n",
      "3029/3029 [==============================] - 1s 252us/step - loss: 0.2775 - accuracy: 0.8963 - val_loss: 0.2561 - val_accuracy: 0.8975\n",
      "Epoch 16/100\n",
      "3029/3029 [==============================] - 1s 211us/step - loss: 0.2664 - accuracy: 0.8940 - val_loss: 0.2549 - val_accuracy: 0.9015\n",
      "Epoch 17/100\n",
      "3029/3029 [==============================] - 1s 213us/step - loss: 0.2645 - accuracy: 0.8986 - val_loss: 0.2536 - val_accuracy: 0.8995\n",
      "Epoch 18/100\n",
      "3029/3029 [==============================] - 1s 196us/step - loss: 0.2710 - accuracy: 0.8927 - val_loss: 0.2574 - val_accuracy: 0.8995\n",
      "Epoch 19/100\n",
      "3029/3029 [==============================] - 1s 187us/step - loss: 0.2620 - accuracy: 0.8977 - val_loss: 0.2525 - val_accuracy: 0.8988\n",
      "Epoch 20/100\n",
      "3029/3029 [==============================] - 1s 232us/step - loss: 0.2569 - accuracy: 0.9003 - val_loss: 0.2483 - val_accuracy: 0.8968\n",
      "Epoch 21/100\n",
      "3029/3029 [==============================] - 1s 203us/step - loss: 0.2569 - accuracy: 0.8957 - val_loss: 0.2476 - val_accuracy: 0.8961\n",
      "Epoch 22/100\n",
      "3029/3029 [==============================] - 0s 154us/step - loss: 0.2580 - accuracy: 0.8990 - val_loss: 0.2493 - val_accuracy: 0.8968\n",
      "Epoch 23/100\n",
      "3029/3029 [==============================] - 1s 210us/step - loss: 0.2586 - accuracy: 0.8996 - val_loss: 0.2461 - val_accuracy: 0.8975\n",
      "Epoch 24/100\n",
      "3029/3029 [==============================] - 1s 215us/step - loss: 0.2448 - accuracy: 0.9039 - val_loss: 0.2465 - val_accuracy: 0.8981\n",
      "Epoch 25/100\n",
      "3029/3029 [==============================] - 1s 237us/step - loss: 0.2525 - accuracy: 0.8980 - val_loss: 0.2450 - val_accuracy: 0.8961\n",
      "Epoch 26/100\n",
      "3029/3029 [==============================] - 1s 225us/step - loss: 0.2520 - accuracy: 0.9016 - val_loss: 0.2440 - val_accuracy: 0.8975\n",
      "Epoch 27/100\n",
      "3029/3029 [==============================] - 1s 188us/step - loss: 0.2427 - accuracy: 0.9036 - val_loss: 0.2437 - val_accuracy: 0.8995\n",
      "Epoch 28/100\n",
      "3029/3029 [==============================] - 1s 172us/step - loss: 0.2409 - accuracy: 0.9029 - val_loss: 0.2441 - val_accuracy: 0.8981\n",
      "Epoch 29/100\n",
      "3029/3029 [==============================] - 1s 209us/step - loss: 0.2459 - accuracy: 0.9016 - val_loss: 0.2426 - val_accuracy: 0.8988\n",
      "Epoch 30/100\n",
      "3029/3029 [==============================] - 1s 229us/step - loss: 0.2417 - accuracy: 0.8983 - val_loss: 0.2431 - val_accuracy: 0.8981\n",
      "Epoch 31/100\n",
      "3029/3029 [==============================] - 1s 221us/step - loss: 0.2387 - accuracy: 0.9036 - val_loss: 0.2430 - val_accuracy: 0.8995\n",
      "Epoch 32/100\n",
      "3029/3029 [==============================] - 1s 195us/step - loss: 0.2403 - accuracy: 0.9026 - val_loss: 0.2438 - val_accuracy: 0.8981\n",
      "Epoch 33/100\n",
      "3029/3029 [==============================] - 1s 233us/step - loss: 0.2434 - accuracy: 0.8993 - val_loss: 0.2427 - val_accuracy: 0.8981\n",
      "Epoch 34/100\n",
      "3029/3029 [==============================] - 1s 227us/step - loss: 0.2396 - accuracy: 0.9026 - val_loss: 0.2430 - val_accuracy: 0.8995\n",
      "Epoch 35/100\n",
      "3029/3029 [==============================] - 1s 269us/step - loss: 0.2364 - accuracy: 0.8977 - val_loss: 0.2458 - val_accuracy: 0.8968\n",
      "Epoch 36/100\n",
      "3029/3029 [==============================] - 1s 410us/step - loss: 0.2374 - accuracy: 0.9059 - val_loss: 0.2442 - val_accuracy: 0.8975\n",
      "Epoch 37/100\n",
      "3029/3029 [==============================] - 1s 233us/step - loss: 0.2299 - accuracy: 0.9099 - val_loss: 0.2457 - val_accuracy: 0.8988\n",
      "Epoch 38/100\n",
      "3029/3029 [==============================] - 1s 195us/step - loss: 0.2306 - accuracy: 0.9076 - val_loss: 0.2474 - val_accuracy: 0.8975\n",
      "Epoch 39/100\n",
      "3029/3029 [==============================] - 1s 233us/step - loss: 0.2344 - accuracy: 0.9059 - val_loss: 0.2462 - val_accuracy: 0.8988\n"
     ]
    }
   ],
   "source": [
    "training = model.fit(X_train, y_train, epochs = 100, batch_size = 64, verbose = 1, validation_data = (X_test, y_test), shuffle = True, callbacks = [es])"
   ]
  },
  {
   "cell_type": "code",
   "execution_count": 17,
   "metadata": {},
   "outputs": [
    {
     "data": {
      "text/plain": [
       "[<matplotlib.lines.Line2D at 0xf459308>]"
      ]
     },
     "execution_count": 17,
     "metadata": {},
     "output_type": "execute_result"
    },
    {
     "data": {
      "image/png": "[encoded data removed]",
      "text/plain": [
       "<Figure size 648x504 with 1 Axes>"
      ]
     },
     "metadata": {
      "needs_background": "light"
     },
     "output_type": "display_data"
    }
   ],
   "source": [
    "plt.figure(figsize = (9,7))\n",
    "plt.plot(training.history['loss'])\n",
    "plt.plot(training.history['val_loss'])"
   ]
  },
  {
   "cell_type": "code",
   "execution_count": 18,
   "metadata": {},
   "outputs": [],
   "source": [
    "prediction = model.predict_classes(X_test)\n",
    "#prediction = prediction > 0.5"
   ]
  },
  {
   "cell_type": "code",
   "execution_count": 19,
   "metadata": {},
   "outputs": [
    {
     "name": "stdout",
     "output_type": "stream",
     "text": [
      "[[1278   56]\n",
      " [  95   63]]\n",
      "              precision    recall  f1-score   support\n",
      "\n",
      "           0       0.93      0.96      0.94      1334\n",
      "           1       0.53      0.40      0.45       158\n",
      "\n",
      "    accuracy                           0.90      1492\n",
      "   macro avg       0.73      0.68      0.70      1492\n",
      "weighted avg       0.89      0.90      0.89      1492\n",
      "\n"
     ]
    }
   ],
   "source": [
    "from sklearn.metrics import confusion_matrix, classification_report\n",
    "\n",
    "print(confusion_matrix(y_test, prediction))\n",
    "\n",
    "print(classification_report(y_test, prediction))"
   ]
  },
  {
   "cell_type": "code",
   "execution_count": 20,
   "metadata": {},
   "outputs": [
    {
     "name": "stdout",
     "output_type": "stream",
     "text": [
      "1492/1492 [==============================] - 0s 36us/step\n"
     ]
    }
   ],
   "source": [
    "score = model.evaluate(X_test, y_test)"
   ]
  },
  {
   "cell_type": "code",
   "execution_count": 21,
   "metadata": {},
   "outputs": [
    {
     "name": "stdout",
     "output_type": "stream",
     "text": [
      "Loss:  0.24616170790415987\n",
      "Accuracy:  0.8987935781478882\n"
     ]
    }
   ],
   "source": [
    "print('Loss: ', score[0])\n",
    "print('Accuracy: ', score[1])"
   ]
  },
  {
   "cell_type": "code",
   "execution_count": 50,
   "metadata": {},
   "outputs": [
    {
     "name": "stdout",
     "output_type": "stream",
     "text": [
      "Fitting 3 folds for each of 6 candidates, totalling 18 fits\n"
     ]
    },
    {
     "name": "stderr",
     "output_type": "stream",
     "text": [
      "[Parallel(n_jobs=-1)]: Using backend LokyBackend with 2 concurrent workers.\n",
      "[Parallel(n_jobs=-1)]: Done  18 out of  18 | elapsed:  7.6min finished\n"
     ]
    }
   ],
   "source": [
    "from sklearn.model_selection import GridSearchCV\n",
    "\n",
    "model = KerasClassifier(build_fn = my_model, verbose = 1)\n",
    "\n",
    "batch_size = [16, 32, 64]\n",
    "epochs = [100, 200]\n",
    "param_grid = dict(batch_size = batch_size, epochs = epochs)\n",
    "\n",
    "grid = GridSearchCV(estimator = model, \n",
    "                    param_grid = param_grid,\n",
    "                    cv = 3,\n",
    "                    verbose = 2, n_jobs = -1)\n",
    "\n",
    "grid_result = grid.fit(X_train, y_train)"
   ]
  },
  {
   "cell_type": "code",
   "execution_count": 51,
   "metadata": {},
   "outputs": [
    {
     "data": {
      "text/plain": [
       "GridSearchCV(cv=3, error_score='raise-deprecating',\n",
       "             estimator=<tensorflow.python.keras.wrappers.scikit_learn.KerasClassifier object at 0x000000001365C448>,\n",
       "             iid='warn', n_jobs=-1,\n",
       "             param_grid={'batch_size': [16, 32, 64], 'epochs': [100, 200]},\n",
       "             pre_dispatch='2*n_jobs', refit=True, return_train_score=False,\n",
       "             scoring=None, verbose=2)"
      ]
     },
     "execution_count": 51,
     "metadata": {},
     "output_type": "execute_result"
    }
   ],
   "source": [
    "grid_result"
   ]
  },
  {
   "cell_type": "code",
   "execution_count": 52,
   "metadata": {},
   "outputs": [
    {
     "data": {
      "text/plain": [
       "{'batch_size': 64, 'epochs': 100}"
      ]
     },
     "execution_count": 52,
     "metadata": {},
     "output_type": "execute_result"
    }
   ],
   "source": [
    "grid.best_params_"
   ]
  },
  {
   "cell_type": "code",
   "execution_count": null,
   "metadata": {},
   "outputs": [],
   "source": []
  }
 ],
 "metadata": {
  "kernelspec": {
   "display_name": "Python 3",
   "language": "python",
   "name": "python3"
  },
  "language_info": {
   "codemirror_mode": {
    "name": "ipython",
    "version": 3
   },
   "file_extension": ".py",
   "mimetype": "text/x-python",
   "name": "python",
   "nbconvert_exporter": "python",
   "pygments_lexer": "ipython3",
   "version": "3.7.4"
  }
 },
 "nbformat": 4,
 "nbformat_minor": 2
}
